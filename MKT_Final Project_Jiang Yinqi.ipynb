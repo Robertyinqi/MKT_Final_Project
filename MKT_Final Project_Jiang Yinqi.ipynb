{
 "cells": [
  {
   "cell_type": "code",
   "execution_count": 41,
   "id": "418c0bf9",
   "metadata": {},
   "outputs": [],
   "source": [
    "import pandas as pd\n",
    "from sklearn.cluster import KMeans\n",
    "import numpy as np\n",
    "from sklearn.model_selection import train_test_split\n",
    "import matplotlib.pyplot as plt\n",
    "import seaborn as sns\n",
    "from collections import defaultdict\n",
    "import statsmodels.api as sm\n",
    "from sklearn.metrics import confusion_matrix\n",
    "from sklearn import model_selection\n",
    "import copy\n",
    "import math"
   ]
  },
  {
   "cell_type": "code",
   "execution_count": 2,
   "id": "953ac7af",
   "metadata": {},
   "outputs": [],
   "source": [
    "df_sub = pd.read_pickle('subscribers')\n",
    "df_conser = pd.read_pickle('customer_service_reps')\n",
    "df_eng = pd.read_pickle('engagement')\n",
    "df_channel = pd.read_csv(\"channel_spend_graduate1.csv\")\n",
    "# df_channel = pd.read_csv('advertising_spend_data.xlsx')"
   ]
  },
  {
   "cell_type": "code",
   "execution_count": 3,
   "id": "3916fa23",
   "metadata": {},
   "outputs": [],
   "source": [
    "df_sub.reset_index(inplace = True)\n",
    "df_sub.drop(['index'],axis = 1,inplace = True)\n",
    "\n",
    "df_conser.reset_index(inplace = True)\n",
    "df_conser.drop(['index'],axis = 1,inplace = True)\n",
    "\n",
    "df_eng.reset_index(inplace = True)\n",
    "df_eng.drop(['index'],axis = 1,inplace = True)"
   ]
  },
  {
   "cell_type": "code",
   "execution_count": 4,
   "id": "cfa4ae46",
   "metadata": {},
   "outputs": [],
   "source": [
    "df_sub.loc[df_sub['attribution_technical'] == 'brand sem intent google', 'attribution_technical'] = 'brand_sem_intent_google'"
   ]
  },
  {
   "cell_type": "code",
   "execution_count": 5,
   "id": "76d94b10",
   "metadata": {},
   "outputs": [],
   "source": [
    "df_channel['date'] =  df_channel['date'].apply(lambda x: x[0:4] + x[5:7])"
   ]
  },
  {
   "cell_type": "code",
   "execution_count": 6,
   "id": "a85e41f4",
   "metadata": {},
   "outputs": [
    {
     "data": {
      "text/html": [
       "<div>\n",
       "<style scoped>\n",
       "    .dataframe tbody tr th:only-of-type {\n",
       "        vertical-align: middle;\n",
       "    }\n",
       "\n",
       "    .dataframe tbody tr th {\n",
       "        vertical-align: top;\n",
       "    }\n",
       "\n",
       "    .dataframe thead th {\n",
       "        text-align: right;\n",
       "    }\n",
       "</style>\n",
       "<table border=\"1\" class=\"dataframe\">\n",
       "  <thead>\n",
       "    <tr style=\"text-align: right;\">\n",
       "      <th></th>\n",
       "      <th>channel</th>\n",
       "      <th>date</th>\n",
       "      <th>spend_AED</th>\n",
       "    </tr>\n",
       "  </thead>\n",
       "  <tbody>\n",
       "    <tr>\n",
       "      <th>0</th>\n",
       "      <td>facebook</td>\n",
       "      <td>201906</td>\n",
       "      <td>84800</td>\n",
       "    </tr>\n",
       "    <tr>\n",
       "      <th>1</th>\n",
       "      <td>facebook</td>\n",
       "      <td>201907</td>\n",
       "      <td>60000</td>\n",
       "    </tr>\n",
       "    <tr>\n",
       "      <th>2</th>\n",
       "      <td>facebook</td>\n",
       "      <td>201908</td>\n",
       "      <td>52300</td>\n",
       "    </tr>\n",
       "    <tr>\n",
       "      <th>3</th>\n",
       "      <td>facebook</td>\n",
       "      <td>201909</td>\n",
       "      <td>49000</td>\n",
       "    </tr>\n",
       "    <tr>\n",
       "      <th>4</th>\n",
       "      <td>facebook</td>\n",
       "      <td>201910</td>\n",
       "      <td>51300</td>\n",
       "    </tr>\n",
       "    <tr>\n",
       "      <th>...</th>\n",
       "      <td>...</td>\n",
       "      <td>...</td>\n",
       "      <td>...</td>\n",
       "    </tr>\n",
       "    <tr>\n",
       "      <th>75</th>\n",
       "      <td>referral</td>\n",
       "      <td>201911</td>\n",
       "      <td>7300</td>\n",
       "    </tr>\n",
       "    <tr>\n",
       "      <th>76</th>\n",
       "      <td>referral</td>\n",
       "      <td>201912</td>\n",
       "      <td>8000</td>\n",
       "    </tr>\n",
       "    <tr>\n",
       "      <th>77</th>\n",
       "      <td>referral</td>\n",
       "      <td>202001</td>\n",
       "      <td>7400</td>\n",
       "    </tr>\n",
       "    <tr>\n",
       "      <th>78</th>\n",
       "      <td>referral</td>\n",
       "      <td>202002</td>\n",
       "      <td>6500</td>\n",
       "    </tr>\n",
       "    <tr>\n",
       "      <th>79</th>\n",
       "      <td>referral</td>\n",
       "      <td>202003</td>\n",
       "      <td>10000</td>\n",
       "    </tr>\n",
       "  </tbody>\n",
       "</table>\n",
       "<p>80 rows × 3 columns</p>\n",
       "</div>"
      ],
      "text/plain": [
       "     channel    date  spend_AED\n",
       "0   facebook  201906      84800\n",
       "1   facebook  201907      60000\n",
       "2   facebook  201908      52300\n",
       "3   facebook  201909      49000\n",
       "4   facebook  201910      51300\n",
       "..       ...     ...        ...\n",
       "75  referral  201911       7300\n",
       "76  referral  201912       8000\n",
       "77  referral  202001       7400\n",
       "78  referral  202002       6500\n",
       "79  referral  202003      10000\n",
       "\n",
       "[80 rows x 3 columns]"
      ]
     },
     "execution_count": 6,
     "metadata": {},
     "output_type": "execute_result"
    }
   ],
   "source": [
    "df_channel"
   ]
  },
  {
   "cell_type": "markdown",
   "id": "c34989ab",
   "metadata": {},
   "source": [
    "# Overview"
   ]
  },
  {
   "cell_type": "code",
   "execution_count": 233,
   "id": "226c589a",
   "metadata": {},
   "outputs": [
    {
     "name": "stdout",
     "output_type": "stream",
     "text": [
      "<class 'pandas.core.frame.DataFrame'>\n",
      "RangeIndex: 227628 entries, 0 to 227627\n",
      "Data columns (total 29 columns):\n",
      " #   Column                        Non-Null Count   Dtype         \n",
      "---  ------                        --------------   -----         \n",
      " 0   subid                         227628 non-null  int64         \n",
      " 1   package_type                  192054 non-null  object        \n",
      " 2   num_weekly_services_utilized  117178 non-null  float64       \n",
      " 3   preferred_genre               191302 non-null  object        \n",
      " 4   intended_use                  224079 non-null  object        \n",
      " 5   weekly_consumption_hour       189698 non-null  float64       \n",
      " 6   num_ideal_streaming_services  115458 non-null  float64       \n",
      " 7   retarget_TF                   227628 non-null  bool          \n",
      " 8   age                           192459 non-null  float64       \n",
      " 9   male_TF                       227359 non-null  object        \n",
      " 10  country                       227628 non-null  object        \n",
      " 11  attribution_technical         227628 non-null  object        \n",
      " 12  attribution_survey            224984 non-null  object        \n",
      " 13  op_sys                        214253 non-null  object        \n",
      " 14  months_per_bill_period        227628 non-null  int64         \n",
      " 15  plan_type                     227628 non-null  object        \n",
      " 16  monthly_price                 227628 non-null  float64       \n",
      " 17  discount_price                227628 non-null  float64       \n",
      " 18  account_creation_date         227628 non-null  datetime64[ns]\n",
      " 19  creation_until_cancel_days    151768 non-null  float64       \n",
      " 20  cancel_before_trial_end       227628 non-null  bool          \n",
      " 21  trial_end_date                227628 non-null  datetime64[ns]\n",
      " 22  initial_credit_card_declined  227628 non-null  bool          \n",
      " 23  revenue_net                   192724 non-null  float64       \n",
      " 24  join_fee                      192724 non-null  float64       \n",
      " 25  language                      227628 non-null  object        \n",
      " 26  paid_TF                       227628 non-null  bool          \n",
      " 27  refund_after_trial_TF         227628 non-null  bool          \n",
      " 28  payment_type                  92050 non-null   object        \n",
      "dtypes: bool(5), datetime64[ns](2), float64(9), int64(2), object(11)\n",
      "memory usage: 42.8+ MB\n"
     ]
    }
   ],
   "source": [
    "df_sub.info()"
   ]
  },
  {
   "cell_type": "code",
   "execution_count": null,
   "id": "9f0db20e",
   "metadata": {},
   "outputs": [],
   "source": []
  },
  {
   "cell_type": "code",
   "execution_count": 234,
   "id": "26a4c457",
   "metadata": {},
   "outputs": [
    {
     "data": {
      "text/plain": [
       "facebook                   80251\n",
       "email                      25690\n",
       "search                     25306\n",
       "organic                    22013\n",
       "brand_sem_intent_google    18524\n",
       "google_organic             10691\n",
       "affiliate                   9894\n",
       "email_blast                 7277\n",
       "pinterest                   6065\n",
       "referral                    5170\n",
       "facebook_organic            3272\n",
       "discovery                   2571\n",
       "brand sem intent bing       2231\n",
       "other                       1786\n",
       "display                     1407\n",
       "bing                        1146\n",
       "internal                    1122\n",
       "podcast                      985\n",
       "youtube                      913\n",
       "bing_organic                 369\n",
       "vod                          297\n",
       "ott                          158\n",
       "direct_mail                  139\n",
       "quora                        100\n",
       "samsung                       86\n",
       "appstore                      44\n",
       "criteo                        44\n",
       "pinterest_organic             30\n",
       "influencer                    21\n",
       "playstore                     12\n",
       "twitter                        5\n",
       "content_greatist               5\n",
       "tv                             4\n",
       "Name: attribution_technical, dtype: int64"
      ]
     },
     "execution_count": 234,
     "metadata": {},
     "output_type": "execute_result"
    }
   ],
   "source": [
    "df_sub['attribution_technical'].value_counts()"
   ]
  },
  {
   "cell_type": "code",
   "execution_count": 148,
   "id": "a40e8202",
   "metadata": {},
   "outputs": [],
   "source": [
    "df_sub_churn_overview = df_sub_churn.dropna(subset = ['current_sub_TF'])"
   ]
  },
  {
   "cell_type": "code",
   "execution_count": 150,
   "id": "2f5a1f0c",
   "metadata": {},
   "outputs": [
    {
     "data": {
      "text/plain": [
       "False    102695\n",
       "True      32355\n",
       "Name: current_sub_TF, dtype: int64"
      ]
     },
     "execution_count": 150,
     "metadata": {},
     "output_type": "execute_result"
    }
   ],
   "source": [
    "df_sub_churn_overview['current_sub_TF'].value_counts()"
   ]
  },
  {
   "cell_type": "code",
   "execution_count": null,
   "id": "c60f346a",
   "metadata": {},
   "outputs": [],
   "source": []
  },
  {
   "cell_type": "markdown",
   "id": "5bae1394",
   "metadata": {},
   "source": [
    "# Q2"
   ]
  },
  {
   "cell_type": "code",
   "execution_count": 202,
   "id": "2bf23797",
   "metadata": {},
   "outputs": [],
   "source": [
    "df_sub_q2 = df_sub.copy(deep=True)"
   ]
  },
  {
   "cell_type": "code",
   "execution_count": 203,
   "id": "adebbc4e",
   "metadata": {},
   "outputs": [],
   "source": [
    "feature_list = ['package_type','preferred_genre','intended_use','age','male_TF']"
   ]
  },
  {
   "cell_type": "code",
   "execution_count": 204,
   "id": "909edd63",
   "metadata": {},
   "outputs": [],
   "source": [
    "df_sub_q2 = df_sub_q2[-(df_sub_q2.age > 100)]"
   ]
  },
  {
   "cell_type": "code",
   "execution_count": 205,
   "id": "d8e73c1b",
   "metadata": {},
   "outputs": [],
   "source": [
    "df_sub_q2 = df_sub_q2.dropna(subset = feature_list )"
   ]
  },
  {
   "cell_type": "code",
   "execution_count": 206,
   "id": "36786007",
   "metadata": {},
   "outputs": [
    {
     "data": {
      "text/html": [
       "<div>\n",
       "<style scoped>\n",
       "    .dataframe tbody tr th:only-of-type {\n",
       "        vertical-align: middle;\n",
       "    }\n",
       "\n",
       "    .dataframe tbody tr th {\n",
       "        vertical-align: top;\n",
       "    }\n",
       "\n",
       "    .dataframe thead th {\n",
       "        text-align: right;\n",
       "    }\n",
       "</style>\n",
       "<table border=\"1\" class=\"dataframe\">\n",
       "  <thead>\n",
       "    <tr style=\"text-align: right;\">\n",
       "      <th></th>\n",
       "      <th>subid</th>\n",
       "      <th>package_type</th>\n",
       "      <th>num_weekly_services_utilized</th>\n",
       "      <th>preferred_genre</th>\n",
       "      <th>intended_use</th>\n",
       "      <th>weekly_consumption_hour</th>\n",
       "      <th>num_ideal_streaming_services</th>\n",
       "      <th>retarget_TF</th>\n",
       "      <th>age</th>\n",
       "      <th>male_TF</th>\n",
       "      <th>...</th>\n",
       "      <th>creation_until_cancel_days</th>\n",
       "      <th>cancel_before_trial_end</th>\n",
       "      <th>trial_end_date</th>\n",
       "      <th>initial_credit_card_declined</th>\n",
       "      <th>revenue_net</th>\n",
       "      <th>join_fee</th>\n",
       "      <th>language</th>\n",
       "      <th>paid_TF</th>\n",
       "      <th>refund_after_trial_TF</th>\n",
       "      <th>payment_type</th>\n",
       "    </tr>\n",
       "  </thead>\n",
       "  <tbody>\n",
       "    <tr>\n",
       "      <th>1</th>\n",
       "      <td>23383224</td>\n",
       "      <td>base</td>\n",
       "      <td>NaN</td>\n",
       "      <td>comedy</td>\n",
       "      <td>access to exclusive content</td>\n",
       "      <td>22.951579</td>\n",
       "      <td>NaN</td>\n",
       "      <td>False</td>\n",
       "      <td>70.0</td>\n",
       "      <td>False</td>\n",
       "      <td>...</td>\n",
       "      <td>0.0</td>\n",
       "      <td>False</td>\n",
       "      <td>2020-03-16</td>\n",
       "      <td>False</td>\n",
       "      <td>0.0000</td>\n",
       "      <td>0.3303</td>\n",
       "      <td>ar</td>\n",
       "      <td>False</td>\n",
       "      <td>False</td>\n",
       "      <td>NaN</td>\n",
       "    </tr>\n",
       "    <tr>\n",
       "      <th>2</th>\n",
       "      <td>26844789</td>\n",
       "      <td>enhanced</td>\n",
       "      <td>3.362885</td>\n",
       "      <td>regional</td>\n",
       "      <td>replace OTT</td>\n",
       "      <td>36.001186</td>\n",
       "      <td>1.951776</td>\n",
       "      <td>False</td>\n",
       "      <td>25.0</td>\n",
       "      <td>True</td>\n",
       "      <td>...</td>\n",
       "      <td>1.0</td>\n",
       "      <td>False</td>\n",
       "      <td>2019-12-22</td>\n",
       "      <td>False</td>\n",
       "      <td>0.0000</td>\n",
       "      <td>0.1101</td>\n",
       "      <td>ar</td>\n",
       "      <td>False</td>\n",
       "      <td>False</td>\n",
       "      <td>NaN</td>\n",
       "    </tr>\n",
       "    <tr>\n",
       "      <th>3</th>\n",
       "      <td>29417030</td>\n",
       "      <td>base</td>\n",
       "      <td>NaN</td>\n",
       "      <td>drama</td>\n",
       "      <td>replace OTT</td>\n",
       "      <td>20.051667</td>\n",
       "      <td>NaN</td>\n",
       "      <td>False</td>\n",
       "      <td>30.0</td>\n",
       "      <td>False</td>\n",
       "      <td>...</td>\n",
       "      <td>0.0</td>\n",
       "      <td>False</td>\n",
       "      <td>2020-02-11</td>\n",
       "      <td>False</td>\n",
       "      <td>0.0000</td>\n",
       "      <td>0.0367</td>\n",
       "      <td>ar</td>\n",
       "      <td>False</td>\n",
       "      <td>False</td>\n",
       "      <td>NaN</td>\n",
       "    </tr>\n",
       "    <tr>\n",
       "      <th>4</th>\n",
       "      <td>26723159</td>\n",
       "      <td>base</td>\n",
       "      <td>3.731089</td>\n",
       "      <td>comedy</td>\n",
       "      <td>replace OTT</td>\n",
       "      <td>22.951579</td>\n",
       "      <td>2.506384</td>\n",
       "      <td>False</td>\n",
       "      <td>28.0</td>\n",
       "      <td>False</td>\n",
       "      <td>...</td>\n",
       "      <td>9.0</td>\n",
       "      <td>False</td>\n",
       "      <td>2019-10-20</td>\n",
       "      <td>False</td>\n",
       "      <td>0.0000</td>\n",
       "      <td>0.0367</td>\n",
       "      <td>ar</td>\n",
       "      <td>False</td>\n",
       "      <td>False</td>\n",
       "      <td>NaN</td>\n",
       "    </tr>\n",
       "    <tr>\n",
       "      <th>5</th>\n",
       "      <td>24810928</td>\n",
       "      <td>base</td>\n",
       "      <td>NaN</td>\n",
       "      <td>comedy</td>\n",
       "      <td>access to exclusive content</td>\n",
       "      <td>20.051667</td>\n",
       "      <td>NaN</td>\n",
       "      <td>False</td>\n",
       "      <td>70.0</td>\n",
       "      <td>False</td>\n",
       "      <td>...</td>\n",
       "      <td>71.0</td>\n",
       "      <td>True</td>\n",
       "      <td>2020-03-18</td>\n",
       "      <td>False</td>\n",
       "      <td>0.0000</td>\n",
       "      <td>0.3303</td>\n",
       "      <td>ar</td>\n",
       "      <td>True</td>\n",
       "      <td>True</td>\n",
       "      <td>RAKBANK</td>\n",
       "    </tr>\n",
       "    <tr>\n",
       "      <th>...</th>\n",
       "      <td>...</td>\n",
       "      <td>...</td>\n",
       "      <td>...</td>\n",
       "      <td>...</td>\n",
       "      <td>...</td>\n",
       "      <td>...</td>\n",
       "      <td>...</td>\n",
       "      <td>...</td>\n",
       "      <td>...</td>\n",
       "      <td>...</td>\n",
       "      <td>...</td>\n",
       "      <td>...</td>\n",
       "      <td>...</td>\n",
       "      <td>...</td>\n",
       "      <td>...</td>\n",
       "      <td>...</td>\n",
       "      <td>...</td>\n",
       "      <td>...</td>\n",
       "      <td>...</td>\n",
       "      <td>...</td>\n",
       "      <td>...</td>\n",
       "    </tr>\n",
       "    <tr>\n",
       "      <th>227622</th>\n",
       "      <td>25835684</td>\n",
       "      <td>base</td>\n",
       "      <td>2.169904</td>\n",
       "      <td>drama</td>\n",
       "      <td>access to exclusive content</td>\n",
       "      <td>24.401536</td>\n",
       "      <td>1.881068</td>\n",
       "      <td>False</td>\n",
       "      <td>43.0</td>\n",
       "      <td>False</td>\n",
       "      <td>...</td>\n",
       "      <td>11.0</td>\n",
       "      <td>False</td>\n",
       "      <td>2020-01-16</td>\n",
       "      <td>False</td>\n",
       "      <td>0.0000</td>\n",
       "      <td>0.0000</td>\n",
       "      <td>ar</td>\n",
       "      <td>False</td>\n",
       "      <td>False</td>\n",
       "      <td>NaN</td>\n",
       "    </tr>\n",
       "    <tr>\n",
       "      <th>227623</th>\n",
       "      <td>21434712</td>\n",
       "      <td>enhanced</td>\n",
       "      <td>2.594078</td>\n",
       "      <td>comedy</td>\n",
       "      <td>supplement OTT</td>\n",
       "      <td>28.751405</td>\n",
       "      <td>1.905485</td>\n",
       "      <td>False</td>\n",
       "      <td>38.0</td>\n",
       "      <td>False</td>\n",
       "      <td>...</td>\n",
       "      <td>8.0</td>\n",
       "      <td>False</td>\n",
       "      <td>2019-12-02</td>\n",
       "      <td>False</td>\n",
       "      <td>0.0000</td>\n",
       "      <td>0.3303</td>\n",
       "      <td>ar</td>\n",
       "      <td>False</td>\n",
       "      <td>False</td>\n",
       "      <td>NaN</td>\n",
       "    </tr>\n",
       "    <tr>\n",
       "      <th>227624</th>\n",
       "      <td>25843074</td>\n",
       "      <td>enhanced</td>\n",
       "      <td>2.361370</td>\n",
       "      <td>comedy</td>\n",
       "      <td>replace OTT</td>\n",
       "      <td>27.301448</td>\n",
       "      <td>1.835189</td>\n",
       "      <td>True</td>\n",
       "      <td>49.0</td>\n",
       "      <td>False</td>\n",
       "      <td>...</td>\n",
       "      <td>NaN</td>\n",
       "      <td>True</td>\n",
       "      <td>2019-12-21</td>\n",
       "      <td>False</td>\n",
       "      <td>4.5875</td>\n",
       "      <td>0.3303</td>\n",
       "      <td>ar</td>\n",
       "      <td>True</td>\n",
       "      <td>False</td>\n",
       "      <td>Paypal</td>\n",
       "    </tr>\n",
       "    <tr>\n",
       "      <th>227625</th>\n",
       "      <td>24799085</td>\n",
       "      <td>base</td>\n",
       "      <td>NaN</td>\n",
       "      <td>comedy</td>\n",
       "      <td>access to exclusive content</td>\n",
       "      <td>31.651317</td>\n",
       "      <td>NaN</td>\n",
       "      <td>False</td>\n",
       "      <td>45.0</td>\n",
       "      <td>False</td>\n",
       "      <td>...</td>\n",
       "      <td>31.0</td>\n",
       "      <td>True</td>\n",
       "      <td>2020-01-05</td>\n",
       "      <td>True</td>\n",
       "      <td>0.0000</td>\n",
       "      <td>0.0367</td>\n",
       "      <td>ar</td>\n",
       "      <td>False</td>\n",
       "      <td>False</td>\n",
       "      <td>NaN</td>\n",
       "    </tr>\n",
       "    <tr>\n",
       "      <th>227627</th>\n",
       "      <td>20166335</td>\n",
       "      <td>base</td>\n",
       "      <td>NaN</td>\n",
       "      <td>comedy</td>\n",
       "      <td>replace OTT</td>\n",
       "      <td>25.851492</td>\n",
       "      <td>NaN</td>\n",
       "      <td>False</td>\n",
       "      <td>55.0</td>\n",
       "      <td>False</td>\n",
       "      <td>...</td>\n",
       "      <td>4.0</td>\n",
       "      <td>False</td>\n",
       "      <td>2019-12-11</td>\n",
       "      <td>False</td>\n",
       "      <td>0.0000</td>\n",
       "      <td>0.0367</td>\n",
       "      <td>ar</td>\n",
       "      <td>False</td>\n",
       "      <td>False</td>\n",
       "      <td>NaN</td>\n",
       "    </tr>\n",
       "  </tbody>\n",
       "</table>\n",
       "<p>155134 rows × 29 columns</p>\n",
       "</div>"
      ],
      "text/plain": [
       "           subid package_type  num_weekly_services_utilized preferred_genre  \\\n",
       "1       23383224         base                           NaN          comedy   \n",
       "2       26844789     enhanced                      3.362885        regional   \n",
       "3       29417030         base                           NaN           drama   \n",
       "4       26723159         base                      3.731089          comedy   \n",
       "5       24810928         base                           NaN          comedy   \n",
       "...          ...          ...                           ...             ...   \n",
       "227622  25835684         base                      2.169904           drama   \n",
       "227623  21434712     enhanced                      2.594078          comedy   \n",
       "227624  25843074     enhanced                      2.361370          comedy   \n",
       "227625  24799085         base                           NaN          comedy   \n",
       "227627  20166335         base                           NaN          comedy   \n",
       "\n",
       "                       intended_use  weekly_consumption_hour  \\\n",
       "1       access to exclusive content                22.951579   \n",
       "2                       replace OTT                36.001186   \n",
       "3                       replace OTT                20.051667   \n",
       "4                       replace OTT                22.951579   \n",
       "5       access to exclusive content                20.051667   \n",
       "...                             ...                      ...   \n",
       "227622  access to exclusive content                24.401536   \n",
       "227623               supplement OTT                28.751405   \n",
       "227624                  replace OTT                27.301448   \n",
       "227625  access to exclusive content                31.651317   \n",
       "227627                  replace OTT                25.851492   \n",
       "\n",
       "        num_ideal_streaming_services  retarget_TF   age male_TF  ...  \\\n",
       "1                                NaN        False  70.0   False  ...   \n",
       "2                           1.951776        False  25.0    True  ...   \n",
       "3                                NaN        False  30.0   False  ...   \n",
       "4                           2.506384        False  28.0   False  ...   \n",
       "5                                NaN        False  70.0   False  ...   \n",
       "...                              ...          ...   ...     ...  ...   \n",
       "227622                      1.881068        False  43.0   False  ...   \n",
       "227623                      1.905485        False  38.0   False  ...   \n",
       "227624                      1.835189         True  49.0   False  ...   \n",
       "227625                           NaN        False  45.0   False  ...   \n",
       "227627                           NaN        False  55.0   False  ...   \n",
       "\n",
       "       creation_until_cancel_days cancel_before_trial_end trial_end_date  \\\n",
       "1                             0.0                   False     2020-03-16   \n",
       "2                             1.0                   False     2019-12-22   \n",
       "3                             0.0                   False     2020-02-11   \n",
       "4                             9.0                   False     2019-10-20   \n",
       "5                            71.0                    True     2020-03-18   \n",
       "...                           ...                     ...            ...   \n",
       "227622                       11.0                   False     2020-01-16   \n",
       "227623                        8.0                   False     2019-12-02   \n",
       "227624                        NaN                    True     2019-12-21   \n",
       "227625                       31.0                    True     2020-01-05   \n",
       "227627                        4.0                   False     2019-12-11   \n",
       "\n",
       "       initial_credit_card_declined  revenue_net join_fee  language  paid_TF  \\\n",
       "1                             False       0.0000   0.3303        ar    False   \n",
       "2                             False       0.0000   0.1101        ar    False   \n",
       "3                             False       0.0000   0.0367        ar    False   \n",
       "4                             False       0.0000   0.0367        ar    False   \n",
       "5                             False       0.0000   0.3303        ar     True   \n",
       "...                             ...          ...      ...       ...      ...   \n",
       "227622                        False       0.0000   0.0000        ar    False   \n",
       "227623                        False       0.0000   0.3303        ar    False   \n",
       "227624                        False       4.5875   0.3303        ar     True   \n",
       "227625                         True       0.0000   0.0367        ar    False   \n",
       "227627                        False       0.0000   0.0367        ar    False   \n",
       "\n",
       "       refund_after_trial_TF  payment_type  \n",
       "1                      False           NaN  \n",
       "2                      False           NaN  \n",
       "3                      False           NaN  \n",
       "4                      False           NaN  \n",
       "5                       True       RAKBANK  \n",
       "...                      ...           ...  \n",
       "227622                 False           NaN  \n",
       "227623                 False           NaN  \n",
       "227624                 False        Paypal  \n",
       "227625                 False           NaN  \n",
       "227627                 False           NaN  \n",
       "\n",
       "[155134 rows x 29 columns]"
      ]
     },
     "execution_count": 206,
     "metadata": {},
     "output_type": "execute_result"
    }
   ],
   "source": [
    "df_sub_q2"
   ]
  },
  {
   "cell_type": "code",
   "execution_count": 207,
   "id": "1fbad661",
   "metadata": {},
   "outputs": [],
   "source": [
    "df_seg = df_sub_q2[feature_list]"
   ]
  },
  {
   "cell_type": "code",
   "execution_count": 208,
   "id": "c2f15191",
   "metadata": {},
   "outputs": [
    {
     "data": {
      "text/html": [
       "<div>\n",
       "<style scoped>\n",
       "    .dataframe tbody tr th:only-of-type {\n",
       "        vertical-align: middle;\n",
       "    }\n",
       "\n",
       "    .dataframe tbody tr th {\n",
       "        vertical-align: top;\n",
       "    }\n",
       "\n",
       "    .dataframe thead th {\n",
       "        text-align: right;\n",
       "    }\n",
       "</style>\n",
       "<table border=\"1\" class=\"dataframe\">\n",
       "  <thead>\n",
       "    <tr style=\"text-align: right;\">\n",
       "      <th></th>\n",
       "      <th>package_type</th>\n",
       "      <th>preferred_genre</th>\n",
       "      <th>intended_use</th>\n",
       "      <th>age</th>\n",
       "      <th>male_TF</th>\n",
       "    </tr>\n",
       "  </thead>\n",
       "  <tbody>\n",
       "    <tr>\n",
       "      <th>1</th>\n",
       "      <td>base</td>\n",
       "      <td>comedy</td>\n",
       "      <td>access to exclusive content</td>\n",
       "      <td>70.0</td>\n",
       "      <td>False</td>\n",
       "    </tr>\n",
       "    <tr>\n",
       "      <th>2</th>\n",
       "      <td>enhanced</td>\n",
       "      <td>regional</td>\n",
       "      <td>replace OTT</td>\n",
       "      <td>25.0</td>\n",
       "      <td>True</td>\n",
       "    </tr>\n",
       "    <tr>\n",
       "      <th>3</th>\n",
       "      <td>base</td>\n",
       "      <td>drama</td>\n",
       "      <td>replace OTT</td>\n",
       "      <td>30.0</td>\n",
       "      <td>False</td>\n",
       "    </tr>\n",
       "    <tr>\n",
       "      <th>4</th>\n",
       "      <td>base</td>\n",
       "      <td>comedy</td>\n",
       "      <td>replace OTT</td>\n",
       "      <td>28.0</td>\n",
       "      <td>False</td>\n",
       "    </tr>\n",
       "    <tr>\n",
       "      <th>5</th>\n",
       "      <td>base</td>\n",
       "      <td>comedy</td>\n",
       "      <td>access to exclusive content</td>\n",
       "      <td>70.0</td>\n",
       "      <td>False</td>\n",
       "    </tr>\n",
       "  </tbody>\n",
       "</table>\n",
       "</div>"
      ],
      "text/plain": [
       "  package_type preferred_genre                 intended_use   age male_TF\n",
       "1         base          comedy  access to exclusive content  70.0   False\n",
       "2     enhanced        regional                  replace OTT  25.0    True\n",
       "3         base           drama                  replace OTT  30.0   False\n",
       "4         base          comedy                  replace OTT  28.0   False\n",
       "5         base          comedy  access to exclusive content  70.0   False"
      ]
     },
     "execution_count": 208,
     "metadata": {},
     "output_type": "execute_result"
    }
   ],
   "source": [
    "df_seg.head()"
   ]
  },
  {
   "cell_type": "code",
   "execution_count": 209,
   "id": "cf283a1c",
   "metadata": {},
   "outputs": [
    {
     "name": "stderr",
     "output_type": "stream",
     "text": [
      "<ipython-input-209-2314aa721b17>:1: SettingWithCopyWarning: \n",
      "A value is trying to be set on a copy of a slice from a DataFrame.\n",
      "Try using .loc[row_indexer,col_indexer] = value instead\n",
      "\n",
      "See the caveats in the documentation: https://pandas.pydata.org/pandas-docs/stable/user_guide/indexing.html#returning-a-view-versus-a-copy\n",
      "  df_seg['age'] = df_seg['age']/(max(df_seg['age'])-min(df_seg['age']))\n"
     ]
    }
   ],
   "source": [
    "df_seg['age'] = df_seg['age']/(max(df_seg['age'])-min(df_seg['age']))"
   ]
  },
  {
   "cell_type": "code",
   "execution_count": 210,
   "id": "676cdac7",
   "metadata": {},
   "outputs": [
    {
     "name": "stderr",
     "output_type": "stream",
     "text": [
      "<ipython-input-210-7d544572e9d6>:1: SettingWithCopyWarning: \n",
      "A value is trying to be set on a copy of a slice from a DataFrame.\n",
      "Try using .loc[row_indexer,col_indexer] = value instead\n",
      "\n",
      "See the caveats in the documentation: https://pandas.pydata.org/pandas-docs/stable/user_guide/indexing.html#returning-a-view-versus-a-copy\n",
      "  df_seg['male_TF'] = df_seg['male_TF'].astype('string')\n"
     ]
    }
   ],
   "source": [
    "df_seg['male_TF'] = df_seg['male_TF'].astype('string')"
   ]
  },
  {
   "cell_type": "code",
   "execution_count": 211,
   "id": "8961baee",
   "metadata": {},
   "outputs": [
    {
     "name": "stderr",
     "output_type": "stream",
     "text": [
      "<ipython-input-211-817d45927fc7>:1: SettingWithCopyWarning: \n",
      "A value is trying to be set on a copy of a slice from a DataFrame.\n",
      "Try using .loc[row_indexer,col_indexer] = value instead\n",
      "\n",
      "See the caveats in the documentation: https://pandas.pydata.org/pandas-docs/stable/user_guide/indexing.html#returning-a-view-versus-a-copy\n",
      "  df_seg['male_TF'] = df_seg['male_TF'].map(\n"
     ]
    }
   ],
   "source": [
    "df_seg['male_TF'] = df_seg['male_TF'].map(\n",
    "                   {\"True\":1 ,\"False\":0})"
   ]
  },
  {
   "cell_type": "code",
   "execution_count": 212,
   "id": "eb9cdd02",
   "metadata": {},
   "outputs": [
    {
     "data": {
      "text/html": [
       "<div>\n",
       "<style scoped>\n",
       "    .dataframe tbody tr th:only-of-type {\n",
       "        vertical-align: middle;\n",
       "    }\n",
       "\n",
       "    .dataframe tbody tr th {\n",
       "        vertical-align: top;\n",
       "    }\n",
       "\n",
       "    .dataframe thead th {\n",
       "        text-align: right;\n",
       "    }\n",
       "</style>\n",
       "<table border=\"1\" class=\"dataframe\">\n",
       "  <thead>\n",
       "    <tr style=\"text-align: right;\">\n",
       "      <th></th>\n",
       "      <th>package_type</th>\n",
       "      <th>preferred_genre</th>\n",
       "      <th>intended_use</th>\n",
       "      <th>age</th>\n",
       "      <th>male_TF</th>\n",
       "    </tr>\n",
       "  </thead>\n",
       "  <tbody>\n",
       "    <tr>\n",
       "      <th>1</th>\n",
       "      <td>base</td>\n",
       "      <td>comedy</td>\n",
       "      <td>access to exclusive content</td>\n",
       "      <td>0.70</td>\n",
       "      <td>0</td>\n",
       "    </tr>\n",
       "    <tr>\n",
       "      <th>2</th>\n",
       "      <td>enhanced</td>\n",
       "      <td>regional</td>\n",
       "      <td>replace OTT</td>\n",
       "      <td>0.25</td>\n",
       "      <td>1</td>\n",
       "    </tr>\n",
       "    <tr>\n",
       "      <th>3</th>\n",
       "      <td>base</td>\n",
       "      <td>drama</td>\n",
       "      <td>replace OTT</td>\n",
       "      <td>0.30</td>\n",
       "      <td>0</td>\n",
       "    </tr>\n",
       "    <tr>\n",
       "      <th>4</th>\n",
       "      <td>base</td>\n",
       "      <td>comedy</td>\n",
       "      <td>replace OTT</td>\n",
       "      <td>0.28</td>\n",
       "      <td>0</td>\n",
       "    </tr>\n",
       "    <tr>\n",
       "      <th>5</th>\n",
       "      <td>base</td>\n",
       "      <td>comedy</td>\n",
       "      <td>access to exclusive content</td>\n",
       "      <td>0.70</td>\n",
       "      <td>0</td>\n",
       "    </tr>\n",
       "  </tbody>\n",
       "</table>\n",
       "</div>"
      ],
      "text/plain": [
       "  package_type preferred_genre                 intended_use   age  male_TF\n",
       "1         base          comedy  access to exclusive content  0.70        0\n",
       "2     enhanced        regional                  replace OTT  0.25        1\n",
       "3         base           drama                  replace OTT  0.30        0\n",
       "4         base          comedy                  replace OTT  0.28        0\n",
       "5         base          comedy  access to exclusive content  0.70        0"
      ]
     },
     "execution_count": 212,
     "metadata": {},
     "output_type": "execute_result"
    }
   ],
   "source": [
    "df_seg.head()"
   ]
  },
  {
   "cell_type": "code",
   "execution_count": 213,
   "id": "7e281d45",
   "metadata": {},
   "outputs": [],
   "source": [
    "package_type_dummy=pd.get_dummies(df_seg['package_type'])\n",
    "df_seg=pd.merge(df_seg,package_type_dummy,left_index=True,right_index=True)\n",
    "\n",
    "preferred_genre_dummy=pd.get_dummies(df_seg['preferred_genre'])\n",
    "df_seg=pd.merge(df_seg,preferred_genre_dummy,left_index=True,right_index=True)\n",
    "\n",
    "intended_use_dummy=pd.get_dummies(df_seg['intended_use'])\n",
    "df_seg=pd.merge(df_seg,intended_use_dummy,left_index=True,right_index=True)"
   ]
  },
  {
   "cell_type": "code",
   "execution_count": 214,
   "id": "26060d93",
   "metadata": {},
   "outputs": [],
   "source": [
    "df_seg = df_seg.drop(['package_type','preferred_genre','intended_use'],axis = 1)"
   ]
  },
  {
   "cell_type": "code",
   "execution_count": 215,
   "id": "393488f7",
   "metadata": {},
   "outputs": [
    {
     "data": {
      "image/png": "[encoded data removed]",
      "text/plain": [
       "<Figure size 432x288 with 1 Axes>"
      ]
     },
     "metadata": {
      "needs_background": "light"
     },
     "output_type": "display_data"
    }
   ],
   "source": [
    "def fitting(df):\n",
    "    Sum_of_squared_distances = []\n",
    "    K = range(1,20)\n",
    "    for k in K:\n",
    "        km = KMeans(n_clusters=k)\n",
    "        km = km.fit(df)\n",
    "        Sum_of_squared_distances.append(km.inertia_)\n",
    "        #inertia_ reports the within group sum of squared errors, which is W in this Jupyter.\n",
    "    plt.plot(K, Sum_of_squared_distances, 'bx-')\n",
    "    plt.xlabel('k')\n",
    "    plt.ylabel('Sum_of_squared_distances')\n",
    "    plt.title('Elbow Method For Optimal k')\n",
    "    plt.show()\n",
    "    return \n",
    "\n",
    "fitting(df_seg)"
   ]
  },
  {
   "cell_type": "code",
   "execution_count": 216,
   "id": "622b4769",
   "metadata": {},
   "outputs": [],
   "source": [
    "X = df_seg\n",
    "\n",
    "kmeans = KMeans(n_clusters=5)\n",
    "res = kmeans.fit(X)\n",
    "\n",
    "y = res.predict(X)\n",
    "y = y.tolist()\n",
    "df_sub_q2['group'] = y"
   ]
  },
  {
   "cell_type": "code",
   "execution_count": 217,
   "id": "cd7d7b88",
   "metadata": {},
   "outputs": [],
   "source": [
    "for i in range(5):\n",
    "    df_num = i + 1\n",
    "    locals()['df_group'+str(df_num)] = df_sub_q2[df_sub_q2['group'] == i]"
   ]
  },
  {
   "cell_type": "code",
   "execution_count": null,
   "id": "037f489e",
   "metadata": {},
   "outputs": [],
   "source": []
  },
  {
   "cell_type": "code",
   "execution_count": 192,
   "id": "3f00a7ef",
   "metadata": {},
   "outputs": [],
   "source": [
    "# age distribution for each group"
   ]
  },
  {
   "cell_type": "code",
   "execution_count": 218,
   "id": "14394cb1",
   "metadata": {},
   "outputs": [
    {
     "name": "stderr",
     "output_type": "stream",
     "text": [
      "/opt/anaconda3/lib/python3.8/site-packages/seaborn/distributions.py:2557: FutureWarning: `distplot` is a deprecated function and will be removed in a future version. Please adapt your code to use either `displot` (a figure-level function with similar flexibility) or `histplot` (an axes-level function for histograms).\n",
      "  warnings.warn(msg, FutureWarning)\n",
      "/opt/anaconda3/lib/python3.8/site-packages/seaborn/distributions.py:2557: FutureWarning: `distplot` is a deprecated function and will be removed in a future version. Please adapt your code to use either `displot` (a figure-level function with similar flexibility) or `histplot` (an axes-level function for histograms).\n",
      "  warnings.warn(msg, FutureWarning)\n",
      "/opt/anaconda3/lib/python3.8/site-packages/seaborn/distributions.py:2557: FutureWarning: `distplot` is a deprecated function and will be removed in a future version. Please adapt your code to use either `displot` (a figure-level function with similar flexibility) or `histplot` (an axes-level function for histograms).\n",
      "  warnings.warn(msg, FutureWarning)\n",
      "/opt/anaconda3/lib/python3.8/site-packages/seaborn/distributions.py:2557: FutureWarning: `distplot` is a deprecated function and will be removed in a future version. Please adapt your code to use either `displot` (a figure-level function with similar flexibility) or `histplot` (an axes-level function for histograms).\n",
      "  warnings.warn(msg, FutureWarning)\n",
      "/opt/anaconda3/lib/python3.8/site-packages/seaborn/distributions.py:2557: FutureWarning: `distplot` is a deprecated function and will be removed in a future version. Please adapt your code to use either `displot` (a figure-level function with similar flexibility) or `histplot` (an axes-level function for histograms).\n",
      "  warnings.warn(msg, FutureWarning)\n"
     ]
    },
    {
     "data": {
      "image/png": "[encoded data removed]",
      "text/plain": [
       "<Figure size 3600x576 with 5 Axes>"
      ]
     },
     "metadata": {
      "needs_background": "light"
     },
     "output_type": "display_data"
    }
   ],
   "source": [
    "plt.figure(figsize=(50,8))\n",
    "\n",
    "plt.subplot(1,5,1)\n",
    "sns.distplot(df_group1['age'])\n",
    "#plt.show()\n",
    "\n",
    "plt.subplot(1,5,2)\n",
    "sns.distplot(df_group2['age'])\n",
    "#plt.show()\n",
    "\n",
    "plt.subplot(1,5,3)\n",
    "sns.distplot(df_group3['age'])\n",
    "#plt.show()\n",
    "\n",
    "plt.subplot(1,5,4)\n",
    "sns.distplot(df_group4['age'])\n",
    "#plt.show()\n",
    "\n",
    "plt.subplot(1,5,5)\n",
    "sns.distplot(df_group5['age'])\n",
    "plt.show()"
   ]
  },
  {
   "cell_type": "code",
   "execution_count": null,
   "id": "838309f7",
   "metadata": {},
   "outputs": [],
   "source": []
  },
  {
   "cell_type": "code",
   "execution_count": null,
   "id": "36fc76f7",
   "metadata": {},
   "outputs": [],
   "source": []
  },
  {
   "cell_type": "code",
   "execution_count": 228,
   "id": "8ddbbfa2",
   "metadata": {},
   "outputs": [],
   "source": [
    "# male_TF\n",
    "gender_list = list(set(df_sub_q2['male_TF']))\n",
    "dict_gender = defaultdict(list)\n",
    "dict_gender['gender'] = gender_list\n",
    "for i in range(5):\n",
    "    df_num = i + 1\n",
    "    num_list = list()\n",
    "    for gender in gender_list:\n",
    "        #print(genre)\n",
    "        num_list.append((locals()['df_group'+str(df_num)]['male_TF'] == gender).sum())\n",
    "    dict_gender['group'+str(df_num)] = num_list\n",
    "df_gender =pd.DataFrame.from_dict(dict_gender)"
   ]
  },
  {
   "cell_type": "code",
   "execution_count": 229,
   "id": "64f9a83f",
   "metadata": {},
   "outputs": [
    {
     "data": {
      "text/html": [
       "<div>\n",
       "<style scoped>\n",
       "    .dataframe tbody tr th:only-of-type {\n",
       "        vertical-align: middle;\n",
       "    }\n",
       "\n",
       "    .dataframe tbody tr th {\n",
       "        vertical-align: top;\n",
       "    }\n",
       "\n",
       "    .dataframe thead th {\n",
       "        text-align: right;\n",
       "    }\n",
       "</style>\n",
       "<table border=\"1\" class=\"dataframe\">\n",
       "  <thead>\n",
       "    <tr style=\"text-align: right;\">\n",
       "      <th></th>\n",
       "      <th>gender</th>\n",
       "      <th>group1</th>\n",
       "      <th>group2</th>\n",
       "      <th>group3</th>\n",
       "      <th>group4</th>\n",
       "      <th>group5</th>\n",
       "    </tr>\n",
       "  </thead>\n",
       "  <tbody>\n",
       "    <tr>\n",
       "      <th>0</th>\n",
       "      <td>False</td>\n",
       "      <td>28215</td>\n",
       "      <td>26168</td>\n",
       "      <td>24543</td>\n",
       "      <td>21425</td>\n",
       "      <td>33420</td>\n",
       "    </tr>\n",
       "    <tr>\n",
       "      <th>1</th>\n",
       "      <td>True</td>\n",
       "      <td>4650</td>\n",
       "      <td>3557</td>\n",
       "      <td>4925</td>\n",
       "      <td>3902</td>\n",
       "      <td>4329</td>\n",
       "    </tr>\n",
       "  </tbody>\n",
       "</table>\n",
       "</div>"
      ],
      "text/plain": [
       "   gender  group1  group2  group3  group4  group5\n",
       "0   False   28215   26168   24543   21425   33420\n",
       "1    True    4650    3557    4925    3902    4329"
      ]
     },
     "execution_count": 229,
     "metadata": {},
     "output_type": "execute_result"
    }
   ],
   "source": [
    "df_gender"
   ]
  },
  {
   "cell_type": "code",
   "execution_count": null,
   "id": "a98d5368",
   "metadata": {},
   "outputs": [],
   "source": []
  },
  {
   "cell_type": "code",
   "execution_count": 240,
   "id": "e9f25466",
   "metadata": {},
   "outputs": [
    {
     "data": {
      "text/plain": [
       "41.84494246233995"
      ]
     },
     "execution_count": 240,
     "metadata": {},
     "output_type": "execute_result"
    }
   ],
   "source": [
    "df_group1['age'].sum()/df_group1.shape[0]"
   ]
  },
  {
   "cell_type": "code",
   "execution_count": 241,
   "id": "15fa2bcc",
   "metadata": {},
   "outputs": [
    {
     "data": {
      "text/plain": [
       "47.1323264422704"
      ]
     },
     "execution_count": 241,
     "metadata": {},
     "output_type": "execute_result"
    }
   ],
   "source": [
    "df_group2['age'].sum()/df_group2.shape[0]"
   ]
  },
  {
   "cell_type": "code",
   "execution_count": 242,
   "id": "db304bff",
   "metadata": {},
   "outputs": [
    {
     "data": {
      "text/plain": [
       "50.4976628691916"
      ]
     },
     "execution_count": 242,
     "metadata": {},
     "output_type": "execute_result"
    }
   ],
   "source": [
    "df_group3['age'].sum()/df_group3.shape[0]"
   ]
  },
  {
   "cell_type": "code",
   "execution_count": 243,
   "id": "8f3668fb",
   "metadata": {},
   "outputs": [
    {
     "data": {
      "text/plain": [
       "45.24714086848173"
      ]
     },
     "execution_count": 243,
     "metadata": {},
     "output_type": "execute_result"
    }
   ],
   "source": [
    "df_group4['age'].sum()/df_group4.shape[0]"
   ]
  },
  {
   "cell_type": "code",
   "execution_count": 244,
   "id": "893126bf",
   "metadata": {},
   "outputs": [
    {
     "data": {
      "text/plain": [
       "45.983990544355684"
      ]
     },
     "execution_count": 244,
     "metadata": {},
     "output_type": "execute_result"
    }
   ],
   "source": [
    "df_group5['age'].sum()/df_group5.shape[0]"
   ]
  },
  {
   "cell_type": "code",
   "execution_count": null,
   "id": "38f91f1c",
   "metadata": {},
   "outputs": [],
   "source": []
  },
  {
   "cell_type": "code",
   "execution_count": 220,
   "id": "5c624986",
   "metadata": {},
   "outputs": [],
   "source": [
    "# preferred_genre\n",
    "genre_list = list(set(df_sub_q2['preferred_genre']))\n",
    "dict_genre = defaultdict(list)\n",
    "dict_genre['genre'] = genre_list\n",
    "for i in range(5):\n",
    "    df_num = i + 1\n",
    "    num_list = list()\n",
    "    for genre in genre_list:\n",
    "        #print(genre)\n",
    "        num_list.append((locals()['df_group'+str(df_num)]['preferred_genre'] == genre).sum())\n",
    "    dict_genre['group'+str(df_num)] = num_list\n",
    "df_genre =pd.DataFrame.from_dict(dict_genre)"
   ]
  },
  {
   "cell_type": "code",
   "execution_count": 221,
   "id": "b3fcd800",
   "metadata": {},
   "outputs": [
    {
     "data": {
      "text/html": [
       "<div>\n",
       "<style scoped>\n",
       "    .dataframe tbody tr th:only-of-type {\n",
       "        vertical-align: middle;\n",
       "    }\n",
       "\n",
       "    .dataframe tbody tr th {\n",
       "        vertical-align: top;\n",
       "    }\n",
       "\n",
       "    .dataframe thead th {\n",
       "        text-align: right;\n",
       "    }\n",
       "</style>\n",
       "<table border=\"1\" class=\"dataframe\">\n",
       "  <thead>\n",
       "    <tr style=\"text-align: right;\">\n",
       "      <th></th>\n",
       "      <th>genre</th>\n",
       "      <th>group1</th>\n",
       "      <th>group2</th>\n",
       "      <th>group3</th>\n",
       "      <th>group4</th>\n",
       "      <th>group5</th>\n",
       "    </tr>\n",
       "  </thead>\n",
       "  <tbody>\n",
       "    <tr>\n",
       "      <th>0</th>\n",
       "      <td>other</td>\n",
       "      <td>798</td>\n",
       "      <td>899</td>\n",
       "      <td>0</td>\n",
       "      <td>602</td>\n",
       "      <td>1470</td>\n",
       "    </tr>\n",
       "    <tr>\n",
       "      <th>1</th>\n",
       "      <td>international</td>\n",
       "      <td>1043</td>\n",
       "      <td>1727</td>\n",
       "      <td>0</td>\n",
       "      <td>1053</td>\n",
       "      <td>2223</td>\n",
       "    </tr>\n",
       "    <tr>\n",
       "      <th>2</th>\n",
       "      <td>drama</td>\n",
       "      <td>6174</td>\n",
       "      <td>0</td>\n",
       "      <td>29468</td>\n",
       "      <td>4214</td>\n",
       "      <td>0</td>\n",
       "    </tr>\n",
       "    <tr>\n",
       "      <th>3</th>\n",
       "      <td>comedy</td>\n",
       "      <td>22470</td>\n",
       "      <td>25316</td>\n",
       "      <td>0</td>\n",
       "      <td>17951</td>\n",
       "      <td>31324</td>\n",
       "    </tr>\n",
       "    <tr>\n",
       "      <th>4</th>\n",
       "      <td>regional</td>\n",
       "      <td>2380</td>\n",
       "      <td>1783</td>\n",
       "      <td>0</td>\n",
       "      <td>1507</td>\n",
       "      <td>2732</td>\n",
       "    </tr>\n",
       "  </tbody>\n",
       "</table>\n",
       "</div>"
      ],
      "text/plain": [
       "           genre  group1  group2  group3  group4  group5\n",
       "0          other     798     899       0     602    1470\n",
       "1  international    1043    1727       0    1053    2223\n",
       "2          drama    6174       0   29468    4214       0\n",
       "3         comedy   22470   25316       0   17951   31324\n",
       "4       regional    2380    1783       0    1507    2732"
      ]
     },
     "execution_count": 221,
     "metadata": {},
     "output_type": "execute_result"
    }
   ],
   "source": [
    "df_genre"
   ]
  },
  {
   "cell_type": "code",
   "execution_count": null,
   "id": "82f1f67f",
   "metadata": {},
   "outputs": [],
   "source": []
  },
  {
   "cell_type": "code",
   "execution_count": 222,
   "id": "dde14702",
   "metadata": {},
   "outputs": [],
   "source": [
    "# package_type\n",
    "package_list = list(set(df_sub_q2['package_type']))\n",
    "dict_package = defaultdict(list)\n",
    "dict_package['package'] = package_list\n",
    "for i in range(5):\n",
    "    df_num = i + 1\n",
    "    num_list = list()\n",
    "    for package in package_list:\n",
    "        #print(package)\n",
    "        num_list.append((locals()['df_group'+str(df_num)]['package_type'] == package).sum())\n",
    "    dict_package['group'+str(df_num)] = num_list\n",
    "df_package =pd.DataFrame.from_dict(dict_package)"
   ]
  },
  {
   "cell_type": "code",
   "execution_count": 223,
   "id": "77c76e16",
   "metadata": {},
   "outputs": [
    {
     "data": {
      "text/html": [
       "<div>\n",
       "<style scoped>\n",
       "    .dataframe tbody tr th:only-of-type {\n",
       "        vertical-align: middle;\n",
       "    }\n",
       "\n",
       "    .dataframe tbody tr th {\n",
       "        vertical-align: top;\n",
       "    }\n",
       "\n",
       "    .dataframe thead th {\n",
       "        text-align: right;\n",
       "    }\n",
       "</style>\n",
       "<table border=\"1\" class=\"dataframe\">\n",
       "  <thead>\n",
       "    <tr style=\"text-align: right;\">\n",
       "      <th></th>\n",
       "      <th>package</th>\n",
       "      <th>group1</th>\n",
       "      <th>group2</th>\n",
       "      <th>group3</th>\n",
       "      <th>group4</th>\n",
       "      <th>group5</th>\n",
       "    </tr>\n",
       "  </thead>\n",
       "  <tbody>\n",
       "    <tr>\n",
       "      <th>0</th>\n",
       "      <td>economy</td>\n",
       "      <td>0</td>\n",
       "      <td>0</td>\n",
       "      <td>5700</td>\n",
       "      <td>5120</td>\n",
       "      <td>5023</td>\n",
       "    </tr>\n",
       "    <tr>\n",
       "      <th>1</th>\n",
       "      <td>enhanced</td>\n",
       "      <td>32865</td>\n",
       "      <td>0</td>\n",
       "      <td>0</td>\n",
       "      <td>20207</td>\n",
       "      <td>0</td>\n",
       "    </tr>\n",
       "    <tr>\n",
       "      <th>2</th>\n",
       "      <td>base</td>\n",
       "      <td>0</td>\n",
       "      <td>29725</td>\n",
       "      <td>23768</td>\n",
       "      <td>0</td>\n",
       "      <td>32726</td>\n",
       "    </tr>\n",
       "  </tbody>\n",
       "</table>\n",
       "</div>"
      ],
      "text/plain": [
       "    package  group1  group2  group3  group4  group5\n",
       "0   economy       0       0    5700    5120    5023\n",
       "1  enhanced   32865       0       0   20207       0\n",
       "2      base       0   29725   23768       0   32726"
      ]
     },
     "execution_count": 223,
     "metadata": {},
     "output_type": "execute_result"
    }
   ],
   "source": [
    "df_package"
   ]
  },
  {
   "cell_type": "code",
   "execution_count": null,
   "id": "54a03dbc",
   "metadata": {},
   "outputs": [],
   "source": []
  },
  {
   "cell_type": "code",
   "execution_count": 224,
   "id": "c700424a",
   "metadata": {},
   "outputs": [],
   "source": [
    "# intended use\n",
    "use_list = list(set(df_sub_q2['intended_use']))\n",
    "dict_use = defaultdict(list)\n",
    "dict_use['use'] = use_list\n",
    "for i in range(5):\n",
    "    df_num = i + 1\n",
    "    num_list = list()\n",
    "    for use in use_list:\n",
    "        #print(package)\n",
    "        num_list.append((locals()['df_group'+str(df_num)]['intended_use'] == use).sum())\n",
    "    dict_use['group'+str(df_num)] = num_list\n",
    "df_use =pd.DataFrame.from_dict(dict_use)"
   ]
  },
  {
   "cell_type": "code",
   "execution_count": 225,
   "id": "92707db7",
   "metadata": {},
   "outputs": [
    {
     "data": {
      "text/html": [
       "<div>\n",
       "<style scoped>\n",
       "    .dataframe tbody tr th:only-of-type {\n",
       "        vertical-align: middle;\n",
       "    }\n",
       "\n",
       "    .dataframe tbody tr th {\n",
       "        vertical-align: top;\n",
       "    }\n",
       "\n",
       "    .dataframe thead th {\n",
       "        text-align: right;\n",
       "    }\n",
       "</style>\n",
       "<table border=\"1\" class=\"dataframe\">\n",
       "  <thead>\n",
       "    <tr style=\"text-align: right;\">\n",
       "      <th></th>\n",
       "      <th>use</th>\n",
       "      <th>group1</th>\n",
       "      <th>group2</th>\n",
       "      <th>group3</th>\n",
       "      <th>group4</th>\n",
       "      <th>group5</th>\n",
       "    </tr>\n",
       "  </thead>\n",
       "  <tbody>\n",
       "    <tr>\n",
       "      <th>0</th>\n",
       "      <td>education</td>\n",
       "      <td>17</td>\n",
       "      <td>0</td>\n",
       "      <td>9</td>\n",
       "      <td>0</td>\n",
       "      <td>28</td>\n",
       "    </tr>\n",
       "    <tr>\n",
       "      <th>1</th>\n",
       "      <td>expand international access</td>\n",
       "      <td>41</td>\n",
       "      <td>0</td>\n",
       "      <td>23</td>\n",
       "      <td>0</td>\n",
       "      <td>81</td>\n",
       "    </tr>\n",
       "    <tr>\n",
       "      <th>2</th>\n",
       "      <td>supplement OTT</td>\n",
       "      <td>8502</td>\n",
       "      <td>0</td>\n",
       "      <td>3720</td>\n",
       "      <td>0</td>\n",
       "      <td>11011</td>\n",
       "    </tr>\n",
       "    <tr>\n",
       "      <th>3</th>\n",
       "      <td>replace OTT</td>\n",
       "      <td>22577</td>\n",
       "      <td>0</td>\n",
       "      <td>9811</td>\n",
       "      <td>0</td>\n",
       "      <td>23893</td>\n",
       "    </tr>\n",
       "    <tr>\n",
       "      <th>4</th>\n",
       "      <td>other</td>\n",
       "      <td>1684</td>\n",
       "      <td>0</td>\n",
       "      <td>1205</td>\n",
       "      <td>0</td>\n",
       "      <td>2649</td>\n",
       "    </tr>\n",
       "    <tr>\n",
       "      <th>5</th>\n",
       "      <td>access to exclusive content</td>\n",
       "      <td>0</td>\n",
       "      <td>29725</td>\n",
       "      <td>14676</td>\n",
       "      <td>25327</td>\n",
       "      <td>0</td>\n",
       "    </tr>\n",
       "    <tr>\n",
       "      <th>6</th>\n",
       "      <td>expand regional access</td>\n",
       "      <td>44</td>\n",
       "      <td>0</td>\n",
       "      <td>24</td>\n",
       "      <td>0</td>\n",
       "      <td>87</td>\n",
       "    </tr>\n",
       "  </tbody>\n",
       "</table>\n",
       "</div>"
      ],
      "text/plain": [
       "                           use  group1  group2  group3  group4  group5\n",
       "0                    education      17       0       9       0      28\n",
       "1  expand international access      41       0      23       0      81\n",
       "2               supplement OTT    8502       0    3720       0   11011\n",
       "3                  replace OTT   22577       0    9811       0   23893\n",
       "4                        other    1684       0    1205       0    2649\n",
       "5  access to exclusive content       0   29725   14676   25327       0\n",
       "6       expand regional access      44       0      24       0      87"
      ]
     },
     "execution_count": 225,
     "metadata": {},
     "output_type": "execute_result"
    }
   ],
   "source": [
    "df_use"
   ]
  },
  {
   "cell_type": "markdown",
   "id": "03bf544d",
   "metadata": {},
   "source": [
    "# Q3"
   ]
  },
  {
   "cell_type": "code",
   "execution_count": 226,
   "id": "ade4fe9e",
   "metadata": {},
   "outputs": [],
   "source": [
    "df_sub_q3 = df_sub.copy(deep=True)\n",
    "df_channel_q3 = df_channel.copy(deep=True)"
   ]
  },
  {
   "cell_type": "code",
   "execution_count": 227,
   "id": "70ee80ef",
   "metadata": {},
   "outputs": [],
   "source": [
    "df_sub_q3['account_creation_date'] = df_sub_q3['account_creation_date'].astype('string')"
   ]
  },
  {
   "cell_type": "code",
   "execution_count": 154,
   "id": "c6ecbc0b",
   "metadata": {},
   "outputs": [],
   "source": [
    "df_sub_q3['account_creation_date'] = df_sub_q3['account_creation_date'].apply(lambda x: x[0:4]+x[5:7])"
   ]
  },
  {
   "cell_type": "code",
   "execution_count": 155,
   "id": "c170df6b",
   "metadata": {},
   "outputs": [
    {
     "data": {
      "text/plain": [
       "facebook                   80251\n",
       "email                      25690\n",
       "search                     25306\n",
       "organic                    22013\n",
       "brand_sem_intent_google    18524\n",
       "google_organic             10691\n",
       "affiliate                   9894\n",
       "email_blast                 7277\n",
       "pinterest                   6065\n",
       "referral                    5170\n",
       "facebook_organic            3272\n",
       "discovery                   2571\n",
       "brand sem intent bing       2231\n",
       "other                       1786\n",
       "display                     1407\n",
       "bing                        1146\n",
       "internal                    1122\n",
       "podcast                      985\n",
       "youtube                      913\n",
       "bing_organic                 369\n",
       "vod                          297\n",
       "ott                          158\n",
       "direct_mail                  139\n",
       "quora                        100\n",
       "samsung                       86\n",
       "appstore                      44\n",
       "criteo                        44\n",
       "pinterest_organic             30\n",
       "influencer                    21\n",
       "playstore                     12\n",
       "content_greatist               5\n",
       "twitter                        5\n",
       "tv                             4\n",
       "Name: attribution_technical, dtype: int64"
      ]
     },
     "execution_count": 155,
     "metadata": {},
     "output_type": "execute_result"
    }
   ],
   "source": [
    "df_sub_q3['attribution_technical'].value_counts()"
   ]
  },
  {
   "cell_type": "code",
   "execution_count": null,
   "id": "2ac11b1b",
   "metadata": {},
   "outputs": [],
   "source": []
  },
  {
   "cell_type": "code",
   "execution_count": 156,
   "id": "6828b9aa",
   "metadata": {},
   "outputs": [],
   "source": [
    "df_channel_q3['date'] = df_channel_q3['date'].astype('string')"
   ]
  },
  {
   "cell_type": "code",
   "execution_count": 157,
   "id": "6fdec16c",
   "metadata": {},
   "outputs": [
    {
     "data": {
      "text/html": [
       "<div>\n",
       "<style scoped>\n",
       "    .dataframe tbody tr th:only-of-type {\n",
       "        vertical-align: middle;\n",
       "    }\n",
       "\n",
       "    .dataframe tbody tr th {\n",
       "        vertical-align: top;\n",
       "    }\n",
       "\n",
       "    .dataframe thead th {\n",
       "        text-align: right;\n",
       "    }\n",
       "</style>\n",
       "<table border=\"1\" class=\"dataframe\">\n",
       "  <thead>\n",
       "    <tr style=\"text-align: right;\">\n",
       "      <th></th>\n",
       "      <th>channel</th>\n",
       "      <th>date</th>\n",
       "      <th>spend_AED</th>\n",
       "    </tr>\n",
       "  </thead>\n",
       "  <tbody>\n",
       "    <tr>\n",
       "      <th>0</th>\n",
       "      <td>facebook</td>\n",
       "      <td>201906</td>\n",
       "      <td>84800</td>\n",
       "    </tr>\n",
       "    <tr>\n",
       "      <th>1</th>\n",
       "      <td>facebook</td>\n",
       "      <td>201907</td>\n",
       "      <td>60000</td>\n",
       "    </tr>\n",
       "    <tr>\n",
       "      <th>2</th>\n",
       "      <td>facebook</td>\n",
       "      <td>201908</td>\n",
       "      <td>52300</td>\n",
       "    </tr>\n",
       "    <tr>\n",
       "      <th>3</th>\n",
       "      <td>facebook</td>\n",
       "      <td>201909</td>\n",
       "      <td>49000</td>\n",
       "    </tr>\n",
       "    <tr>\n",
       "      <th>4</th>\n",
       "      <td>facebook</td>\n",
       "      <td>201910</td>\n",
       "      <td>51300</td>\n",
       "    </tr>\n",
       "  </tbody>\n",
       "</table>\n",
       "</div>"
      ],
      "text/plain": [
       "    channel    date  spend_AED\n",
       "0  facebook  201906      84800\n",
       "1  facebook  201907      60000\n",
       "2  facebook  201908      52300\n",
       "3  facebook  201909      49000\n",
       "4  facebook  201910      51300"
      ]
     },
     "execution_count": 157,
     "metadata": {},
     "output_type": "execute_result"
    }
   ],
   "source": [
    "df_channel_q3.head()"
   ]
  },
  {
   "cell_type": "code",
   "execution_count": 158,
   "id": "80251bd8",
   "metadata": {},
   "outputs": [],
   "source": [
    "df_channel_q3 = df_channel_q3[df_channel_q3['date'] != '201906']\n",
    "df_channel_q3.reset_index(inplace = True)\n",
    "df_channel_q3.drop(['index'],axis = 1,inplace = True)"
   ]
  },
  {
   "cell_type": "code",
   "execution_count": 159,
   "id": "8d8b87f8",
   "metadata": {},
   "outputs": [],
   "source": [
    "df_channel_q3['convert'] = 0\n",
    "for i in range(df_channel_q3.shape[0]):\n",
    "    for j in range(df_sub_q3.shape[0]):\n",
    "        # print((df_channel_q3.loc[i,'date'] == df_sub_q3.loc[j,'account_creation_date']))\n",
    "        if (df_channel_q3.loc[i,'channel'] == df_sub_q3.loc[j,'attribution_technical']) and (df_channel_q3.loc[i,'date'] == df_sub_q3.loc[j,'account_creation_date']):\n",
    "        #if (df_channel_q3.loc[i,'channel'] == df_sub_q3.loc[j,'attribution_technical']) and (df_channel_q3.loc[i,'date'] == df_sub_q3.loc[j,'account_creation_date']):\n",
    "            df_channel_q3.loc[i,'convert'] = df_channel_q3.loc[i,'convert']+1\n",
    "    # print(i)"
   ]
  },
  {
   "cell_type": "code",
   "execution_count": 160,
   "id": "9f65b474",
   "metadata": {},
   "outputs": [],
   "source": [
    "channel_list = set(df_channel_q3['channel'])"
   ]
  },
  {
   "cell_type": "code",
   "execution_count": 161,
   "id": "b928127f",
   "metadata": {},
   "outputs": [
    {
     "data": {
      "text/plain": [
       "{'affiliate',\n",
       " 'brand_sem_intent_google',\n",
       " 'email',\n",
       " 'email_blast',\n",
       " 'facebook',\n",
       " 'pinterest',\n",
       " 'referral',\n",
       " 'search'}"
      ]
     },
     "execution_count": 161,
     "metadata": {},
     "output_type": "execute_result"
    }
   ],
   "source": [
    "channel_list"
   ]
  },
  {
   "cell_type": "code",
   "execution_count": 162,
   "id": "75664d39",
   "metadata": {},
   "outputs": [],
   "source": [
    "for channel in channel_list:\n",
    "    spend_list = df_channel_q3[df_channel_q3['channel'] == channel]['spend_AED']\n",
    "    convert_list = df_channel_q3[df_channel_q3['channel'] == channel]['convert']\n",
    "    \n",
    "    locals()['df_' + channel] = pd.DataFrame([spend_list,convert_list]).T\n",
    "    locals()['df_' + channel].sort_values('spend_AED', inplace = True)\n",
    "    locals()['df_' + channel].reset_index(inplace = True)\n",
    "    locals()['df_' + channel].drop(['index'],axis = 1,inplace = True)\n",
    "    \n",
    "    for i in range(locals()['df_' + channel].shape[0]):\n",
    "        if i == 0:\n",
    "            locals()['df_' + channel].loc[i,'marginal_cac'] = locals()['df_' + channel].loc[i,'spend_AED']/locals()['df_' + channel].loc[i,'convert']\n",
    "        else:\n",
    "            locals()['df_' + channel].loc[i,'marginal_cac'] = \\\n",
    "            (locals()['df_' + channel].loc[i,'spend_AED']-locals()['df_' + channel].loc[i-1,'spend_AED'])/\\\n",
    "            (locals()['df_' + channel].loc[i,'convert']-locals()['df_' + channel].loc[i-1,'convert'])"
   ]
  },
  {
   "cell_type": "code",
   "execution_count": 163,
   "id": "21933918",
   "metadata": {},
   "outputs": [
    {
     "data": {
      "text/html": [
       "<div>\n",
       "<style scoped>\n",
       "    .dataframe tbody tr th:only-of-type {\n",
       "        vertical-align: middle;\n",
       "    }\n",
       "\n",
       "    .dataframe tbody tr th {\n",
       "        vertical-align: top;\n",
       "    }\n",
       "\n",
       "    .dataframe thead th {\n",
       "        text-align: right;\n",
       "    }\n",
       "</style>\n",
       "<table border=\"1\" class=\"dataframe\">\n",
       "  <thead>\n",
       "    <tr style=\"text-align: right;\">\n",
       "      <th></th>\n",
       "      <th>spend_AED</th>\n",
       "      <th>convert</th>\n",
       "      <th>marginal_cac</th>\n",
       "    </tr>\n",
       "  </thead>\n",
       "  <tbody>\n",
       "    <tr>\n",
       "      <th>0</th>\n",
       "      <td>11700</td>\n",
       "      <td>509</td>\n",
       "      <td>22.986248</td>\n",
       "    </tr>\n",
       "    <tr>\n",
       "      <th>1</th>\n",
       "      <td>12000</td>\n",
       "      <td>839</td>\n",
       "      <td>0.909091</td>\n",
       "    </tr>\n",
       "    <tr>\n",
       "      <th>2</th>\n",
       "      <td>12100</td>\n",
       "      <td>565</td>\n",
       "      <td>-0.364964</td>\n",
       "    </tr>\n",
       "    <tr>\n",
       "      <th>3</th>\n",
       "      <td>12200</td>\n",
       "      <td>760</td>\n",
       "      <td>0.512821</td>\n",
       "    </tr>\n",
       "    <tr>\n",
       "      <th>4</th>\n",
       "      <td>14300</td>\n",
       "      <td>1074</td>\n",
       "      <td>6.687898</td>\n",
       "    </tr>\n",
       "    <tr>\n",
       "      <th>5</th>\n",
       "      <td>15000</td>\n",
       "      <td>1480</td>\n",
       "      <td>1.724138</td>\n",
       "    </tr>\n",
       "    <tr>\n",
       "      <th>6</th>\n",
       "      <td>16300</td>\n",
       "      <td>1903</td>\n",
       "      <td>3.073286</td>\n",
       "    </tr>\n",
       "    <tr>\n",
       "      <th>7</th>\n",
       "      <td>16400</td>\n",
       "      <td>1065</td>\n",
       "      <td>-0.119332</td>\n",
       "    </tr>\n",
       "    <tr>\n",
       "      <th>8</th>\n",
       "      <td>17600</td>\n",
       "      <td>1621</td>\n",
       "      <td>2.158273</td>\n",
       "    </tr>\n",
       "  </tbody>\n",
       "</table>\n",
       "</div>"
      ],
      "text/plain": [
       "   spend_AED  convert  marginal_cac\n",
       "0      11700      509     22.986248\n",
       "1      12000      839      0.909091\n",
       "2      12100      565     -0.364964\n",
       "3      12200      760      0.512821\n",
       "4      14300     1074      6.687898\n",
       "5      15000     1480      1.724138\n",
       "6      16300     1903      3.073286\n",
       "7      16400     1065     -0.119332\n",
       "8      17600     1621      2.158273"
      ]
     },
     "execution_count": 163,
     "metadata": {},
     "output_type": "execute_result"
    }
   ],
   "source": [
    "df_affiliate"
   ]
  },
  {
   "cell_type": "code",
   "execution_count": 164,
   "id": "5842cf33",
   "metadata": {},
   "outputs": [
    {
     "data": {
      "text/html": [
       "<div>\n",
       "<style scoped>\n",
       "    .dataframe tbody tr th:only-of-type {\n",
       "        vertical-align: middle;\n",
       "    }\n",
       "\n",
       "    .dataframe tbody tr th {\n",
       "        vertical-align: top;\n",
       "    }\n",
       "\n",
       "    .dataframe thead th {\n",
       "        text-align: right;\n",
       "    }\n",
       "</style>\n",
       "<table border=\"1\" class=\"dataframe\">\n",
       "  <thead>\n",
       "    <tr style=\"text-align: right;\">\n",
       "      <th></th>\n",
       "      <th>spend_AED</th>\n",
       "      <th>convert</th>\n",
       "      <th>marginal_cac</th>\n",
       "    </tr>\n",
       "  </thead>\n",
       "  <tbody>\n",
       "    <tr>\n",
       "      <th>0</th>\n",
       "      <td>21200</td>\n",
       "      <td>1765</td>\n",
       "      <td>12.011331</td>\n",
       "    </tr>\n",
       "    <tr>\n",
       "      <th>1</th>\n",
       "      <td>21300</td>\n",
       "      <td>2090</td>\n",
       "      <td>0.307692</td>\n",
       "    </tr>\n",
       "    <tr>\n",
       "      <th>2</th>\n",
       "      <td>21300</td>\n",
       "      <td>1895</td>\n",
       "      <td>-0.000000</td>\n",
       "    </tr>\n",
       "    <tr>\n",
       "      <th>3</th>\n",
       "      <td>21300</td>\n",
       "      <td>1530</td>\n",
       "      <td>-0.000000</td>\n",
       "    </tr>\n",
       "    <tr>\n",
       "      <th>4</th>\n",
       "      <td>21400</td>\n",
       "      <td>1602</td>\n",
       "      <td>1.388889</td>\n",
       "    </tr>\n",
       "    <tr>\n",
       "      <th>5</th>\n",
       "      <td>21600</td>\n",
       "      <td>2030</td>\n",
       "      <td>0.467290</td>\n",
       "    </tr>\n",
       "    <tr>\n",
       "      <th>6</th>\n",
       "      <td>21700</td>\n",
       "      <td>2346</td>\n",
       "      <td>0.316456</td>\n",
       "    </tr>\n",
       "    <tr>\n",
       "      <th>7</th>\n",
       "      <td>22200</td>\n",
       "      <td>2443</td>\n",
       "      <td>5.154639</td>\n",
       "    </tr>\n",
       "    <tr>\n",
       "      <th>8</th>\n",
       "      <td>22700</td>\n",
       "      <td>2626</td>\n",
       "      <td>2.732240</td>\n",
       "    </tr>\n",
       "  </tbody>\n",
       "</table>\n",
       "</div>"
      ],
      "text/plain": [
       "   spend_AED  convert  marginal_cac\n",
       "0      21200     1765     12.011331\n",
       "1      21300     2090      0.307692\n",
       "2      21300     1895     -0.000000\n",
       "3      21300     1530     -0.000000\n",
       "4      21400     1602      1.388889\n",
       "5      21600     2030      0.467290\n",
       "6      21700     2346      0.316456\n",
       "7      22200     2443      5.154639\n",
       "8      22700     2626      2.732240"
      ]
     },
     "execution_count": 164,
     "metadata": {},
     "output_type": "execute_result"
    }
   ],
   "source": [
    "df_brand_sem_intent_google"
   ]
  },
  {
   "cell_type": "code",
   "execution_count": 165,
   "id": "a6af09bc",
   "metadata": {},
   "outputs": [
    {
     "data": {
      "text/html": [
       "<div>\n",
       "<style scoped>\n",
       "    .dataframe tbody tr th:only-of-type {\n",
       "        vertical-align: middle;\n",
       "    }\n",
       "\n",
       "    .dataframe tbody tr th {\n",
       "        vertical-align: top;\n",
       "    }\n",
       "\n",
       "    .dataframe thead th {\n",
       "        text-align: right;\n",
       "    }\n",
       "</style>\n",
       "<table border=\"1\" class=\"dataframe\">\n",
       "  <thead>\n",
       "    <tr style=\"text-align: right;\">\n",
       "      <th></th>\n",
       "      <th>spend_AED</th>\n",
       "      <th>convert</th>\n",
       "      <th>marginal_cac</th>\n",
       "    </tr>\n",
       "  </thead>\n",
       "  <tbody>\n",
       "    <tr>\n",
       "      <th>0</th>\n",
       "      <td>75500</td>\n",
       "      <td>2368</td>\n",
       "      <td>31.883446</td>\n",
       "    </tr>\n",
       "    <tr>\n",
       "      <th>1</th>\n",
       "      <td>75600</td>\n",
       "      <td>3260</td>\n",
       "      <td>0.112108</td>\n",
       "    </tr>\n",
       "    <tr>\n",
       "      <th>2</th>\n",
       "      <td>75800</td>\n",
       "      <td>2420</td>\n",
       "      <td>-0.238095</td>\n",
       "    </tr>\n",
       "    <tr>\n",
       "      <th>3</th>\n",
       "      <td>75900</td>\n",
       "      <td>2584</td>\n",
       "      <td>0.609756</td>\n",
       "    </tr>\n",
       "    <tr>\n",
       "      <th>4</th>\n",
       "      <td>76000</td>\n",
       "      <td>2305</td>\n",
       "      <td>-0.358423</td>\n",
       "    </tr>\n",
       "    <tr>\n",
       "      <th>5</th>\n",
       "      <td>76100</td>\n",
       "      <td>3092</td>\n",
       "      <td>0.127065</td>\n",
       "    </tr>\n",
       "    <tr>\n",
       "      <th>6</th>\n",
       "      <td>76100</td>\n",
       "      <td>2677</td>\n",
       "      <td>-0.000000</td>\n",
       "    </tr>\n",
       "    <tr>\n",
       "      <th>7</th>\n",
       "      <td>76600</td>\n",
       "      <td>3168</td>\n",
       "      <td>1.018330</td>\n",
       "    </tr>\n",
       "    <tr>\n",
       "      <th>8</th>\n",
       "      <td>78000</td>\n",
       "      <td>3507</td>\n",
       "      <td>4.129794</td>\n",
       "    </tr>\n",
       "  </tbody>\n",
       "</table>\n",
       "</div>"
      ],
      "text/plain": [
       "   spend_AED  convert  marginal_cac\n",
       "0      75500     2368     31.883446\n",
       "1      75600     3260      0.112108\n",
       "2      75800     2420     -0.238095\n",
       "3      75900     2584      0.609756\n",
       "4      76000     2305     -0.358423\n",
       "5      76100     3092      0.127065\n",
       "6      76100     2677     -0.000000\n",
       "7      76600     3168      1.018330\n",
       "8      78000     3507      4.129794"
      ]
     },
     "execution_count": 165,
     "metadata": {},
     "output_type": "execute_result"
    }
   ],
   "source": [
    "df_email"
   ]
  },
  {
   "cell_type": "code",
   "execution_count": 166,
   "id": "a52ca865",
   "metadata": {},
   "outputs": [
    {
     "data": {
      "text/html": [
       "<div>\n",
       "<style scoped>\n",
       "    .dataframe tbody tr th:only-of-type {\n",
       "        vertical-align: middle;\n",
       "    }\n",
       "\n",
       "    .dataframe tbody tr th {\n",
       "        vertical-align: top;\n",
       "    }\n",
       "\n",
       "    .dataframe thead th {\n",
       "        text-align: right;\n",
       "    }\n",
       "</style>\n",
       "<table border=\"1\" class=\"dataframe\">\n",
       "  <thead>\n",
       "    <tr style=\"text-align: right;\">\n",
       "      <th></th>\n",
       "      <th>spend_AED</th>\n",
       "      <th>convert</th>\n",
       "      <th>marginal_cac</th>\n",
       "    </tr>\n",
       "  </thead>\n",
       "  <tbody>\n",
       "    <tr>\n",
       "      <th>0</th>\n",
       "      <td>300</td>\n",
       "      <td>35</td>\n",
       "      <td>8.571429</td>\n",
       "    </tr>\n",
       "    <tr>\n",
       "      <th>1</th>\n",
       "      <td>300</td>\n",
       "      <td>66</td>\n",
       "      <td>0.000000</td>\n",
       "    </tr>\n",
       "    <tr>\n",
       "      <th>2</th>\n",
       "      <td>300</td>\n",
       "      <td>56</td>\n",
       "      <td>-0.000000</td>\n",
       "    </tr>\n",
       "    <tr>\n",
       "      <th>3</th>\n",
       "      <td>3500</td>\n",
       "      <td>411</td>\n",
       "      <td>9.014085</td>\n",
       "    </tr>\n",
       "    <tr>\n",
       "      <th>4</th>\n",
       "      <td>9800</td>\n",
       "      <td>629</td>\n",
       "      <td>28.899083</td>\n",
       "    </tr>\n",
       "    <tr>\n",
       "      <th>5</th>\n",
       "      <td>29800</td>\n",
       "      <td>1510</td>\n",
       "      <td>22.701476</td>\n",
       "    </tr>\n",
       "    <tr>\n",
       "      <th>6</th>\n",
       "      <td>32300</td>\n",
       "      <td>977</td>\n",
       "      <td>-4.690432</td>\n",
       "    </tr>\n",
       "    <tr>\n",
       "      <th>7</th>\n",
       "      <td>65900</td>\n",
       "      <td>1902</td>\n",
       "      <td>36.324324</td>\n",
       "    </tr>\n",
       "    <tr>\n",
       "      <th>8</th>\n",
       "      <td>73700</td>\n",
       "      <td>1582</td>\n",
       "      <td>-24.375000</td>\n",
       "    </tr>\n",
       "  </tbody>\n",
       "</table>\n",
       "</div>"
      ],
      "text/plain": [
       "   spend_AED  convert  marginal_cac\n",
       "0        300       35      8.571429\n",
       "1        300       66      0.000000\n",
       "2        300       56     -0.000000\n",
       "3       3500      411      9.014085\n",
       "4       9800      629     28.899083\n",
       "5      29800     1510     22.701476\n",
       "6      32300      977     -4.690432\n",
       "7      65900     1902     36.324324\n",
       "8      73700     1582    -24.375000"
      ]
     },
     "execution_count": 166,
     "metadata": {},
     "output_type": "execute_result"
    }
   ],
   "source": [
    "df_email_blast"
   ]
  },
  {
   "cell_type": "code",
   "execution_count": 167,
   "id": "c285b3e7",
   "metadata": {},
   "outputs": [
    {
     "data": {
      "text/html": [
       "<div>\n",
       "<style scoped>\n",
       "    .dataframe tbody tr th:only-of-type {\n",
       "        vertical-align: middle;\n",
       "    }\n",
       "\n",
       "    .dataframe tbody tr th {\n",
       "        vertical-align: top;\n",
       "    }\n",
       "\n",
       "    .dataframe thead th {\n",
       "        text-align: right;\n",
       "    }\n",
       "</style>\n",
       "<table border=\"1\" class=\"dataframe\">\n",
       "  <thead>\n",
       "    <tr style=\"text-align: right;\">\n",
       "      <th></th>\n",
       "      <th>spend_AED</th>\n",
       "      <th>convert</th>\n",
       "      <th>marginal_cac</th>\n",
       "    </tr>\n",
       "  </thead>\n",
       "  <tbody>\n",
       "    <tr>\n",
       "      <th>0</th>\n",
       "      <td>49000</td>\n",
       "      <td>6129</td>\n",
       "      <td>7.994779</td>\n",
       "    </tr>\n",
       "    <tr>\n",
       "      <th>1</th>\n",
       "      <td>49000</td>\n",
       "      <td>6289</td>\n",
       "      <td>0.000000</td>\n",
       "    </tr>\n",
       "    <tr>\n",
       "      <th>2</th>\n",
       "      <td>49100</td>\n",
       "      <td>6889</td>\n",
       "      <td>0.166667</td>\n",
       "    </tr>\n",
       "    <tr>\n",
       "      <th>3</th>\n",
       "      <td>49700</td>\n",
       "      <td>7988</td>\n",
       "      <td>0.545951</td>\n",
       "    </tr>\n",
       "    <tr>\n",
       "      <th>4</th>\n",
       "      <td>51300</td>\n",
       "      <td>9489</td>\n",
       "      <td>1.065956</td>\n",
       "    </tr>\n",
       "    <tr>\n",
       "      <th>5</th>\n",
       "      <td>51400</td>\n",
       "      <td>9288</td>\n",
       "      <td>-0.497512</td>\n",
       "    </tr>\n",
       "    <tr>\n",
       "      <th>6</th>\n",
       "      <td>52300</td>\n",
       "      <td>9855</td>\n",
       "      <td>1.587302</td>\n",
       "    </tr>\n",
       "    <tr>\n",
       "      <th>7</th>\n",
       "      <td>56100</td>\n",
       "      <td>12995</td>\n",
       "      <td>1.210191</td>\n",
       "    </tr>\n",
       "    <tr>\n",
       "      <th>8</th>\n",
       "      <td>60000</td>\n",
       "      <td>10011</td>\n",
       "      <td>-1.306971</td>\n",
       "    </tr>\n",
       "  </tbody>\n",
       "</table>\n",
       "</div>"
      ],
      "text/plain": [
       "   spend_AED  convert  marginal_cac\n",
       "0      49000     6129      7.994779\n",
       "1      49000     6289      0.000000\n",
       "2      49100     6889      0.166667\n",
       "3      49700     7988      0.545951\n",
       "4      51300     9489      1.065956\n",
       "5      51400     9288     -0.497512\n",
       "6      52300     9855      1.587302\n",
       "7      56100    12995      1.210191\n",
       "8      60000    10011     -1.306971"
      ]
     },
     "execution_count": 167,
     "metadata": {},
     "output_type": "execute_result"
    }
   ],
   "source": [
    "df_facebook"
   ]
  },
  {
   "cell_type": "code",
   "execution_count": 168,
   "id": "75e38ff3",
   "metadata": {},
   "outputs": [
    {
     "data": {
      "text/html": [
       "<div>\n",
       "<style scoped>\n",
       "    .dataframe tbody tr th:only-of-type {\n",
       "        vertical-align: middle;\n",
       "    }\n",
       "\n",
       "    .dataframe tbody tr th {\n",
       "        vertical-align: top;\n",
       "    }\n",
       "\n",
       "    .dataframe thead th {\n",
       "        text-align: right;\n",
       "    }\n",
       "</style>\n",
       "<table border=\"1\" class=\"dataframe\">\n",
       "  <thead>\n",
       "    <tr style=\"text-align: right;\">\n",
       "      <th></th>\n",
       "      <th>spend_AED</th>\n",
       "      <th>convert</th>\n",
       "      <th>marginal_cac</th>\n",
       "    </tr>\n",
       "  </thead>\n",
       "  <tbody>\n",
       "    <tr>\n",
       "      <th>0</th>\n",
       "      <td>5900</td>\n",
       "      <td>455</td>\n",
       "      <td>12.967033</td>\n",
       "    </tr>\n",
       "    <tr>\n",
       "      <th>1</th>\n",
       "      <td>6000</td>\n",
       "      <td>793</td>\n",
       "      <td>0.295858</td>\n",
       "    </tr>\n",
       "    <tr>\n",
       "      <th>2</th>\n",
       "      <td>6000</td>\n",
       "      <td>517</td>\n",
       "      <td>-0.000000</td>\n",
       "    </tr>\n",
       "    <tr>\n",
       "      <th>3</th>\n",
       "      <td>6200</td>\n",
       "      <td>637</td>\n",
       "      <td>1.666667</td>\n",
       "    </tr>\n",
       "    <tr>\n",
       "      <th>4</th>\n",
       "      <td>6300</td>\n",
       "      <td>594</td>\n",
       "      <td>-2.325581</td>\n",
       "    </tr>\n",
       "    <tr>\n",
       "      <th>5</th>\n",
       "      <td>6400</td>\n",
       "      <td>680</td>\n",
       "      <td>1.162791</td>\n",
       "    </tr>\n",
       "    <tr>\n",
       "      <th>6</th>\n",
       "      <td>6700</td>\n",
       "      <td>682</td>\n",
       "      <td>150.000000</td>\n",
       "    </tr>\n",
       "    <tr>\n",
       "      <th>7</th>\n",
       "      <td>6700</td>\n",
       "      <td>819</td>\n",
       "      <td>0.000000</td>\n",
       "    </tr>\n",
       "    <tr>\n",
       "      <th>8</th>\n",
       "      <td>7200</td>\n",
       "      <td>851</td>\n",
       "      <td>15.625000</td>\n",
       "    </tr>\n",
       "  </tbody>\n",
       "</table>\n",
       "</div>"
      ],
      "text/plain": [
       "   spend_AED  convert  marginal_cac\n",
       "0       5900      455     12.967033\n",
       "1       6000      793      0.295858\n",
       "2       6000      517     -0.000000\n",
       "3       6200      637      1.666667\n",
       "4       6300      594     -2.325581\n",
       "5       6400      680      1.162791\n",
       "6       6700      682    150.000000\n",
       "7       6700      819      0.000000\n",
       "8       7200      851     15.625000"
      ]
     },
     "execution_count": 168,
     "metadata": {},
     "output_type": "execute_result"
    }
   ],
   "source": [
    "df_pinterest"
   ]
  },
  {
   "cell_type": "code",
   "execution_count": 169,
   "id": "b55e1ce6",
   "metadata": {},
   "outputs": [
    {
     "data": {
      "text/html": [
       "<div>\n",
       "<style scoped>\n",
       "    .dataframe tbody tr th:only-of-type {\n",
       "        vertical-align: middle;\n",
       "    }\n",
       "\n",
       "    .dataframe tbody tr th {\n",
       "        vertical-align: top;\n",
       "    }\n",
       "\n",
       "    .dataframe thead th {\n",
       "        text-align: right;\n",
       "    }\n",
       "</style>\n",
       "<table border=\"1\" class=\"dataframe\">\n",
       "  <thead>\n",
       "    <tr style=\"text-align: right;\">\n",
       "      <th></th>\n",
       "      <th>spend_AED</th>\n",
       "      <th>convert</th>\n",
       "      <th>marginal_cac</th>\n",
       "    </tr>\n",
       "  </thead>\n",
       "  <tbody>\n",
       "    <tr>\n",
       "      <th>0</th>\n",
       "      <td>6500</td>\n",
       "      <td>583</td>\n",
       "      <td>11.149228</td>\n",
       "    </tr>\n",
       "    <tr>\n",
       "      <th>1</th>\n",
       "      <td>6600</td>\n",
       "      <td>528</td>\n",
       "      <td>-1.818182</td>\n",
       "    </tr>\n",
       "    <tr>\n",
       "      <th>2</th>\n",
       "      <td>6800</td>\n",
       "      <td>521</td>\n",
       "      <td>-28.571429</td>\n",
       "    </tr>\n",
       "    <tr>\n",
       "      <th>3</th>\n",
       "      <td>7300</td>\n",
       "      <td>529</td>\n",
       "      <td>62.500000</td>\n",
       "    </tr>\n",
       "    <tr>\n",
       "      <th>4</th>\n",
       "      <td>7300</td>\n",
       "      <td>587</td>\n",
       "      <td>0.000000</td>\n",
       "    </tr>\n",
       "    <tr>\n",
       "      <th>5</th>\n",
       "      <td>7400</td>\n",
       "      <td>582</td>\n",
       "      <td>-20.000000</td>\n",
       "    </tr>\n",
       "    <tr>\n",
       "      <th>6</th>\n",
       "      <td>7400</td>\n",
       "      <td>584</td>\n",
       "      <td>0.000000</td>\n",
       "    </tr>\n",
       "    <tr>\n",
       "      <th>7</th>\n",
       "      <td>8000</td>\n",
       "      <td>666</td>\n",
       "      <td>7.317073</td>\n",
       "    </tr>\n",
       "    <tr>\n",
       "      <th>8</th>\n",
       "      <td>10000</td>\n",
       "      <td>568</td>\n",
       "      <td>-20.408163</td>\n",
       "    </tr>\n",
       "  </tbody>\n",
       "</table>\n",
       "</div>"
      ],
      "text/plain": [
       "   spend_AED  convert  marginal_cac\n",
       "0       6500      583     11.149228\n",
       "1       6600      528     -1.818182\n",
       "2       6800      521    -28.571429\n",
       "3       7300      529     62.500000\n",
       "4       7300      587      0.000000\n",
       "5       7400      582    -20.000000\n",
       "6       7400      584      0.000000\n",
       "7       8000      666      7.317073\n",
       "8      10000      568    -20.408163"
      ]
     },
     "execution_count": 169,
     "metadata": {},
     "output_type": "execute_result"
    }
   ],
   "source": [
    "df_referral"
   ]
  },
  {
   "cell_type": "code",
   "execution_count": 170,
   "id": "1c78ce19",
   "metadata": {},
   "outputs": [
    {
     "data": {
      "text/html": [
       "<div>\n",
       "<style scoped>\n",
       "    .dataframe tbody tr th:only-of-type {\n",
       "        vertical-align: middle;\n",
       "    }\n",
       "\n",
       "    .dataframe tbody tr th {\n",
       "        vertical-align: top;\n",
       "    }\n",
       "\n",
       "    .dataframe thead th {\n",
       "        text-align: right;\n",
       "    }\n",
       "</style>\n",
       "<table border=\"1\" class=\"dataframe\">\n",
       "  <thead>\n",
       "    <tr style=\"text-align: right;\">\n",
       "      <th></th>\n",
       "      <th>spend_AED</th>\n",
       "      <th>convert</th>\n",
       "      <th>marginal_cac</th>\n",
       "    </tr>\n",
       "  </thead>\n",
       "  <tbody>\n",
       "    <tr>\n",
       "      <th>0</th>\n",
       "      <td>17300</td>\n",
       "      <td>1328</td>\n",
       "      <td>13.027108</td>\n",
       "    </tr>\n",
       "    <tr>\n",
       "      <th>1</th>\n",
       "      <td>18100</td>\n",
       "      <td>1939</td>\n",
       "      <td>1.309329</td>\n",
       "    </tr>\n",
       "    <tr>\n",
       "      <th>2</th>\n",
       "      <td>18900</td>\n",
       "      <td>1852</td>\n",
       "      <td>-9.195402</td>\n",
       "    </tr>\n",
       "    <tr>\n",
       "      <th>3</th>\n",
       "      <td>21000</td>\n",
       "      <td>2333</td>\n",
       "      <td>4.365904</td>\n",
       "    </tr>\n",
       "    <tr>\n",
       "      <th>4</th>\n",
       "      <td>21400</td>\n",
       "      <td>2510</td>\n",
       "      <td>2.259887</td>\n",
       "    </tr>\n",
       "    <tr>\n",
       "      <th>5</th>\n",
       "      <td>22700</td>\n",
       "      <td>3093</td>\n",
       "      <td>2.229846</td>\n",
       "    </tr>\n",
       "    <tr>\n",
       "      <th>6</th>\n",
       "      <td>30100</td>\n",
       "      <td>4300</td>\n",
       "      <td>6.130903</td>\n",
       "    </tr>\n",
       "    <tr>\n",
       "      <th>7</th>\n",
       "      <td>32100</td>\n",
       "      <td>3770</td>\n",
       "      <td>-3.773585</td>\n",
       "    </tr>\n",
       "    <tr>\n",
       "      <th>8</th>\n",
       "      <td>33600</td>\n",
       "      <td>4073</td>\n",
       "      <td>4.950495</td>\n",
       "    </tr>\n",
       "  </tbody>\n",
       "</table>\n",
       "</div>"
      ],
      "text/plain": [
       "   spend_AED  convert  marginal_cac\n",
       "0      17300     1328     13.027108\n",
       "1      18100     1939      1.309329\n",
       "2      18900     1852     -9.195402\n",
       "3      21000     2333      4.365904\n",
       "4      21400     2510      2.259887\n",
       "5      22700     3093      2.229846\n",
       "6      30100     4300      6.130903\n",
       "7      32100     3770     -3.773585\n",
       "8      33600     4073      4.950495"
      ]
     },
     "execution_count": 170,
     "metadata": {},
     "output_type": "execute_result"
    }
   ],
   "source": [
    "df_search"
   ]
  },
  {
   "cell_type": "code",
   "execution_count": 171,
   "id": "900b2703",
   "metadata": {},
   "outputs": [],
   "source": [
    "cac_list = []\n",
    "for channel in channel_list:\n",
    "    data = list()\n",
    "    data.append(channel)\n",
    "    data.append(df_channel_q3[df_channel_q3['channel'] == channel]['spend_AED'].sum())\n",
    "    data.append(df_channel_q3[df_channel_q3['channel'] == channel]['convert'].sum())\n",
    "    data.append((df_channel_q3[df_channel_q3['channel'] == channel]['spend_AED'].sum())/(df_channel_q3[df_channel_q3['channel'] == channel]['convert'].sum()))\n",
    "    cac_list.append(data)\n",
    "average_cac = pd.DataFrame(cac_list)\n",
    "average_cac.rename(columns = {0:'channel',1:'spend',2:'convert',3:'average_cac'},inplace = True)"
   ]
  },
  {
   "cell_type": "code",
   "execution_count": 172,
   "id": "1751a0e7",
   "metadata": {},
   "outputs": [
    {
     "data": {
      "text/html": [
       "<div>\n",
       "<style scoped>\n",
       "    .dataframe tbody tr th:only-of-type {\n",
       "        vertical-align: middle;\n",
       "    }\n",
       "\n",
       "    .dataframe tbody tr th {\n",
       "        vertical-align: top;\n",
       "    }\n",
       "\n",
       "    .dataframe thead th {\n",
       "        text-align: right;\n",
       "    }\n",
       "</style>\n",
       "<table border=\"1\" class=\"dataframe\">\n",
       "  <thead>\n",
       "    <tr style=\"text-align: right;\">\n",
       "      <th></th>\n",
       "      <th>channel</th>\n",
       "      <th>spend</th>\n",
       "      <th>convert</th>\n",
       "      <th>average_cac</th>\n",
       "    </tr>\n",
       "  </thead>\n",
       "  <tbody>\n",
       "    <tr>\n",
       "      <th>0</th>\n",
       "      <td>brand_sem_intent_google</td>\n",
       "      <td>194700</td>\n",
       "      <td>18327</td>\n",
       "      <td>10.623670</td>\n",
       "    </tr>\n",
       "    <tr>\n",
       "      <th>1</th>\n",
       "      <td>email_blast</td>\n",
       "      <td>215900</td>\n",
       "      <td>7168</td>\n",
       "      <td>30.119978</td>\n",
       "    </tr>\n",
       "    <tr>\n",
       "      <th>2</th>\n",
       "      <td>referral</td>\n",
       "      <td>67300</td>\n",
       "      <td>5148</td>\n",
       "      <td>13.073038</td>\n",
       "    </tr>\n",
       "    <tr>\n",
       "      <th>3</th>\n",
       "      <td>pinterest</td>\n",
       "      <td>57400</td>\n",
       "      <td>6028</td>\n",
       "      <td>9.522230</td>\n",
       "    </tr>\n",
       "    <tr>\n",
       "      <th>4</th>\n",
       "      <td>email</td>\n",
       "      <td>685600</td>\n",
       "      <td>25381</td>\n",
       "      <td>27.012332</td>\n",
       "    </tr>\n",
       "    <tr>\n",
       "      <th>5</th>\n",
       "      <td>facebook</td>\n",
       "      <td>467900</td>\n",
       "      <td>78933</td>\n",
       "      <td>5.927812</td>\n",
       "    </tr>\n",
       "    <tr>\n",
       "      <th>6</th>\n",
       "      <td>affiliate</td>\n",
       "      <td>127600</td>\n",
       "      <td>9816</td>\n",
       "      <td>12.999185</td>\n",
       "    </tr>\n",
       "    <tr>\n",
       "      <th>7</th>\n",
       "      <td>search</td>\n",
       "      <td>215200</td>\n",
       "      <td>25198</td>\n",
       "      <td>8.540360</td>\n",
       "    </tr>\n",
       "  </tbody>\n",
       "</table>\n",
       "</div>"
      ],
      "text/plain": [
       "                   channel   spend  convert  average_cac\n",
       "0  brand_sem_intent_google  194700    18327    10.623670\n",
       "1              email_blast  215900     7168    30.119978\n",
       "2                 referral   67300     5148    13.073038\n",
       "3                pinterest   57400     6028     9.522230\n",
       "4                    email  685600    25381    27.012332\n",
       "5                 facebook  467900    78933     5.927812\n",
       "6                affiliate  127600     9816    12.999185\n",
       "7                   search  215200    25198     8.540360"
      ]
     },
     "execution_count": 172,
     "metadata": {},
     "output_type": "execute_result"
    }
   ],
   "source": [
    "average_cac"
   ]
  },
  {
   "cell_type": "code",
   "execution_count": 189,
   "id": "5a2987e8",
   "metadata": {},
   "outputs": [],
   "source": [
    "df_sub_q3['attribution_technical'] = df_sub_q3['attribution_technical'].astype('string')"
   ]
  },
  {
   "cell_type": "code",
   "execution_count": 186,
   "id": "3cf0362b",
   "metadata": {},
   "outputs": [
    {
     "data": {
      "text/plain": [
       "{'affiliate',\n",
       " 'brand_sem_intent_google',\n",
       " 'email',\n",
       " 'email_blast',\n",
       " 'facebook',\n",
       " 'pinterest',\n",
       " 'referral',\n",
       " 'search'}"
      ]
     },
     "execution_count": 186,
     "metadata": {},
     "output_type": "execute_result"
    }
   ],
   "source": [
    "channel_list"
   ]
  },
  {
   "cell_type": "code",
   "execution_count": 200,
   "id": "670bcdec",
   "metadata": {},
   "outputs": [],
   "source": [
    "clv_list = []\n",
    "for channel in channel_list:\n",
    "    data = list()\n",
    "    data.append(channel)\n",
    "    \n",
    "    spend = df_channel_q3[df_channel_q3['channel'] == channel]['spend_AED'].sum()\n",
    "    data.append(spend)\n",
    "    \n",
    "    convert = df_channel_q3[df_channel_q3['channel'] == channel]['convert'].sum()\n",
    "    data.append(convert)\n",
    "    \n",
    "    locals()['df_clv_' + channel] = df_sub_q3[df_sub_q3['attribution_technical'] == channel]\n",
    "    revenue = locals()['df_clv_' + channel]['discount_price'].sum() + locals()['df_clv_' + channel]['revenue_net'].sum() + locals()['df_clv_' + channel]['join_fee'].sum()\n",
    "    \n",
    "    clv = (revenue - spend)/convert\n",
    "    data.append(clv)\n",
    "    \n",
    "    cac = (df_channel_q3[df_channel_q3['channel'] == channel]['spend_AED'].sum())/(df_channel_q3[df_channel_q3['channel'] == channel]['convert'].sum())\n",
    "    data.append(clv/cac)\n",
    "    \n",
    "    clv_list.append(data)\n",
    "clv = pd.DataFrame(clv_list)\n",
    "clv.rename(columns = {0:'channel',1:'spend',2:'convert',3:'clv',4:'clv/cac'},inplace = True)"
   ]
  },
  {
   "cell_type": "code",
   "execution_count": null,
   "id": "b08c8a5b",
   "metadata": {},
   "outputs": [],
   "source": []
  },
  {
   "cell_type": "code",
   "execution_count": 201,
   "id": "55c41389",
   "metadata": {},
   "outputs": [
    {
     "data": {
      "text/html": [
       "<div>\n",
       "<style scoped>\n",
       "    .dataframe tbody tr th:only-of-type {\n",
       "        vertical-align: middle;\n",
       "    }\n",
       "\n",
       "    .dataframe tbody tr th {\n",
       "        vertical-align: top;\n",
       "    }\n",
       "\n",
       "    .dataframe thead th {\n",
       "        text-align: right;\n",
       "    }\n",
       "</style>\n",
       "<table border=\"1\" class=\"dataframe\">\n",
       "  <thead>\n",
       "    <tr style=\"text-align: right;\">\n",
       "      <th></th>\n",
       "      <th>channel</th>\n",
       "      <th>spend</th>\n",
       "      <th>convert</th>\n",
       "      <th>clv</th>\n",
       "      <th>clv/cac</th>\n",
       "    </tr>\n",
       "  </thead>\n",
       "  <tbody>\n",
       "    <tr>\n",
       "      <th>0</th>\n",
       "      <td>brand_sem_intent_google</td>\n",
       "      <td>194700</td>\n",
       "      <td>18327</td>\n",
       "      <td>-4.186844</td>\n",
       "      <td>-0.394105</td>\n",
       "    </tr>\n",
       "    <tr>\n",
       "      <th>1</th>\n",
       "      <td>email_blast</td>\n",
       "      <td>215900</td>\n",
       "      <td>7168</td>\n",
       "      <td>-23.633678</td>\n",
       "      <td>-0.784651</td>\n",
       "    </tr>\n",
       "    <tr>\n",
       "      <th>2</th>\n",
       "      <td>referral</td>\n",
       "      <td>67300</td>\n",
       "      <td>5148</td>\n",
       "      <td>-6.831942</td>\n",
       "      <td>-0.522598</td>\n",
       "    </tr>\n",
       "    <tr>\n",
       "      <th>3</th>\n",
       "      <td>pinterest</td>\n",
       "      <td>57400</td>\n",
       "      <td>6028</td>\n",
       "      <td>-3.339211</td>\n",
       "      <td>-0.350675</td>\n",
       "    </tr>\n",
       "    <tr>\n",
       "      <th>4</th>\n",
       "      <td>email</td>\n",
       "      <td>685600</td>\n",
       "      <td>25381</td>\n",
       "      <td>-21.057221</td>\n",
       "      <td>-0.779541</td>\n",
       "    </tr>\n",
       "    <tr>\n",
       "      <th>5</th>\n",
       "      <td>facebook</td>\n",
       "      <td>467900</td>\n",
       "      <td>78933</td>\n",
       "      <td>-0.349415</td>\n",
       "      <td>-0.058945</td>\n",
       "    </tr>\n",
       "    <tr>\n",
       "      <th>6</th>\n",
       "      <td>affiliate</td>\n",
       "      <td>127600</td>\n",
       "      <td>9816</td>\n",
       "      <td>-6.965482</td>\n",
       "      <td>-0.535840</td>\n",
       "    </tr>\n",
       "    <tr>\n",
       "      <th>7</th>\n",
       "      <td>search</td>\n",
       "      <td>215200</td>\n",
       "      <td>25198</td>\n",
       "      <td>-2.698180</td>\n",
       "      <td>-0.315933</td>\n",
       "    </tr>\n",
       "  </tbody>\n",
       "</table>\n",
       "</div>"
      ],
      "text/plain": [
       "                   channel   spend  convert        clv   clv/cac\n",
       "0  brand_sem_intent_google  194700    18327  -4.186844 -0.394105\n",
       "1              email_blast  215900     7168 -23.633678 -0.784651\n",
       "2                 referral   67300     5148  -6.831942 -0.522598\n",
       "3                pinterest   57400     6028  -3.339211 -0.350675\n",
       "4                    email  685600    25381 -21.057221 -0.779541\n",
       "5                 facebook  467900    78933  -0.349415 -0.058945\n",
       "6                affiliate  127600     9816  -6.965482 -0.535840\n",
       "7                   search  215200    25198  -2.698180 -0.315933"
      ]
     },
     "execution_count": 201,
     "metadata": {},
     "output_type": "execute_result"
    }
   ],
   "source": [
    "clv"
   ]
  },
  {
   "cell_type": "code",
   "execution_count": 199,
   "id": "1eab4021",
   "metadata": {},
   "outputs": [
    {
     "data": {
      "text/html": [
       "<div>\n",
       "<style scoped>\n",
       "    .dataframe tbody tr th:only-of-type {\n",
       "        vertical-align: middle;\n",
       "    }\n",
       "\n",
       "    .dataframe tbody tr th {\n",
       "        vertical-align: top;\n",
       "    }\n",
       "\n",
       "    .dataframe thead th {\n",
       "        text-align: right;\n",
       "    }\n",
       "</style>\n",
       "<table border=\"1\" class=\"dataframe\">\n",
       "  <thead>\n",
       "    <tr style=\"text-align: right;\">\n",
       "      <th></th>\n",
       "      <th>channel</th>\n",
       "      <th>spend</th>\n",
       "      <th>convert</th>\n",
       "      <th>average_cac</th>\n",
       "    </tr>\n",
       "  </thead>\n",
       "  <tbody>\n",
       "    <tr>\n",
       "      <th>0</th>\n",
       "      <td>brand_sem_intent_google</td>\n",
       "      <td>194700</td>\n",
       "      <td>18327</td>\n",
       "      <td>10.623670</td>\n",
       "    </tr>\n",
       "    <tr>\n",
       "      <th>1</th>\n",
       "      <td>email_blast</td>\n",
       "      <td>215900</td>\n",
       "      <td>7168</td>\n",
       "      <td>30.119978</td>\n",
       "    </tr>\n",
       "    <tr>\n",
       "      <th>2</th>\n",
       "      <td>referral</td>\n",
       "      <td>67300</td>\n",
       "      <td>5148</td>\n",
       "      <td>13.073038</td>\n",
       "    </tr>\n",
       "    <tr>\n",
       "      <th>3</th>\n",
       "      <td>pinterest</td>\n",
       "      <td>57400</td>\n",
       "      <td>6028</td>\n",
       "      <td>9.522230</td>\n",
       "    </tr>\n",
       "    <tr>\n",
       "      <th>4</th>\n",
       "      <td>email</td>\n",
       "      <td>685600</td>\n",
       "      <td>25381</td>\n",
       "      <td>27.012332</td>\n",
       "    </tr>\n",
       "    <tr>\n",
       "      <th>5</th>\n",
       "      <td>facebook</td>\n",
       "      <td>467900</td>\n",
       "      <td>78933</td>\n",
       "      <td>5.927812</td>\n",
       "    </tr>\n",
       "    <tr>\n",
       "      <th>6</th>\n",
       "      <td>affiliate</td>\n",
       "      <td>127600</td>\n",
       "      <td>9816</td>\n",
       "      <td>12.999185</td>\n",
       "    </tr>\n",
       "    <tr>\n",
       "      <th>7</th>\n",
       "      <td>search</td>\n",
       "      <td>215200</td>\n",
       "      <td>25198</td>\n",
       "      <td>8.540360</td>\n",
       "    </tr>\n",
       "  </tbody>\n",
       "</table>\n",
       "</div>"
      ],
      "text/plain": [
       "                   channel   spend  convert  average_cac\n",
       "0  brand_sem_intent_google  194700    18327    10.623670\n",
       "1              email_blast  215900     7168    30.119978\n",
       "2                 referral   67300     5148    13.073038\n",
       "3                pinterest   57400     6028     9.522230\n",
       "4                    email  685600    25381    27.012332\n",
       "5                 facebook  467900    78933     5.927812\n",
       "6                affiliate  127600     9816    12.999185\n",
       "7                   search  215200    25198     8.540360"
      ]
     },
     "execution_count": 199,
     "metadata": {},
     "output_type": "execute_result"
    }
   ],
   "source": [
    "average_cac"
   ]
  },
  {
   "cell_type": "code",
   "execution_count": null,
   "id": "a12e7a1d",
   "metadata": {},
   "outputs": [],
   "source": []
  },
  {
   "cell_type": "markdown",
   "id": "3407ebde",
   "metadata": {},
   "source": [
    "# Churn Model"
   ]
  },
  {
   "cell_type": "code",
   "execution_count": 7,
   "id": "db7f5cba",
   "metadata": {},
   "outputs": [],
   "source": [
    "df_conser_churn = df_conser.copy(deep=True)\n",
    "df_eng_churn = df_eng.copy(deep=True)\n",
    "df_sub_churn = df_sub.copy(deep=True)"
   ]
  },
  {
   "cell_type": "code",
   "execution_count": 8,
   "id": "6460d6b9",
   "metadata": {},
   "outputs": [],
   "source": [
    "user_list = set(df_conser['subid'])"
   ]
  },
  {
   "cell_type": "code",
   "execution_count": 9,
   "id": "1eea0465",
   "metadata": {},
   "outputs": [],
   "source": [
    "df_current = df_conser.drop_duplicates('subid')"
   ]
  },
  {
   "cell_type": "code",
   "execution_count": 10,
   "id": "5b51fab7",
   "metadata": {},
   "outputs": [],
   "source": [
    "df_current.index = df_current['subid']"
   ]
  },
  {
   "cell_type": "code",
   "execution_count": null,
   "id": "2ba59756",
   "metadata": {},
   "outputs": [],
   "source": []
  },
  {
   "cell_type": "code",
   "execution_count": 11,
   "id": "87a24792",
   "metadata": {},
   "outputs": [],
   "source": [
    "df_num_period = pd.DataFrame(df_eng_churn.groupby('subid')['payment_period'].max() + 1)"
   ]
  },
  {
   "cell_type": "code",
   "execution_count": 12,
   "id": "5c59e45b",
   "metadata": {},
   "outputs": [],
   "source": [
    "df_eng_churn = df_eng_churn.groupby('subid').sum()\n",
    "df_eng_churn.drop(['payment_period'],axis =1,inplace =True)"
   ]
  },
  {
   "cell_type": "code",
   "execution_count": 13,
   "id": "bb8474f6",
   "metadata": {},
   "outputs": [],
   "source": [
    "df_eng_churn = pd.concat([df_eng_churn, df_num_period], axis = 1)"
   ]
  },
  {
   "cell_type": "code",
   "execution_count": 14,
   "id": "4b4265e8",
   "metadata": {},
   "outputs": [],
   "source": [
    "eng_fea_list = ['app_opens','cust_service_mssgs','num_videos_completed','num_videos_more_than_30_seconds','num_videos_rated','num_series_started']\n",
    "for feature in eng_fea_list:\n",
    "    df_eng_churn[feature] = df_eng_churn[feature]/df_eng_churn['payment_period']"
   ]
  },
  {
   "cell_type": "code",
   "execution_count": 15,
   "id": "e9adb1f8",
   "metadata": {},
   "outputs": [
    {
     "name": "stderr",
     "output_type": "stream",
     "text": [
      "100%|██████████| 227628/227628 [1:03:44<00:00, 59.52it/s] \n"
     ]
    }
   ],
   "source": [
    "from time import sleep\n",
    "from tqdm import tqdm\n",
    "\n",
    "for i in tqdm(range(df_sub_churn.shape[0])):\n",
    "    try:\n",
    "        user_id = df_sub_churn.loc[i,'subid']\n",
    "        df_sub_churn.loc[i,'current_sub_TF'] = df_current.loc[user_id,'current_sub_TF']\n",
    "        for feature in eng_fea_list:\n",
    "            df_sub_churn.loc[i,feature] = df_eng_churn.loc[user_id,feature]\n",
    "    except: \n",
    "        continue\n",
    "    sleep(0.01)\n",
    "sleep(0.5)"
   ]
  },
  {
   "cell_type": "code",
   "execution_count": 17,
   "id": "eb79ac4a",
   "metadata": {},
   "outputs": [],
   "source": [
    "df_sub_churn.to_csv('df_sub_churn.csv', index = False)"
   ]
  },
  {
   "cell_type": "code",
   "execution_count": 20,
   "id": "b4e46595",
   "metadata": {},
   "outputs": [
    {
     "name": "stdout",
     "output_type": "stream",
     "text": [
      "<class 'pandas.core.frame.DataFrame'>\n",
      "RangeIndex: 227628 entries, 0 to 227627\n",
      "Data columns (total 36 columns):\n",
      " #   Column                           Non-Null Count   Dtype         \n",
      "---  ------                           --------------   -----         \n",
      " 0   subid                            227628 non-null  int64         \n",
      " 1   package_type                     192054 non-null  object        \n",
      " 2   num_weekly_services_utilized     117178 non-null  float64       \n",
      " 3   preferred_genre                  191302 non-null  object        \n",
      " 4   intended_use                     224079 non-null  object        \n",
      " 5   weekly_consumption_hour          189698 non-null  float64       \n",
      " 6   num_ideal_streaming_services     115458 non-null  float64       \n",
      " 7   retarget_TF                      227628 non-null  bool          \n",
      " 8   age                              192459 non-null  float64       \n",
      " 9   male_TF                          227359 non-null  object        \n",
      " 10  country                          227628 non-null  object        \n",
      " 11  attribution_technical            227628 non-null  object        \n",
      " 12  attribution_survey               224984 non-null  object        \n",
      " 13  op_sys                           214253 non-null  object        \n",
      " 14  months_per_bill_period           227628 non-null  int64         \n",
      " 15  plan_type                        227628 non-null  object        \n",
      " 16  monthly_price                    227628 non-null  float64       \n",
      " 17  discount_price                   227628 non-null  float64       \n",
      " 18  account_creation_date            227628 non-null  datetime64[ns]\n",
      " 19  creation_until_cancel_days       151768 non-null  float64       \n",
      " 20  cancel_before_trial_end          227628 non-null  bool          \n",
      " 21  trial_end_date                   227628 non-null  datetime64[ns]\n",
      " 22  initial_credit_card_declined     227628 non-null  bool          \n",
      " 23  revenue_net                      192724 non-null  float64       \n",
      " 24  join_fee                         192724 non-null  float64       \n",
      " 25  language                         227628 non-null  object        \n",
      " 26  paid_TF                          227628 non-null  bool          \n",
      " 27  refund_after_trial_TF            227628 non-null  bool          \n",
      " 28  payment_type                     92050 non-null   object        \n",
      " 29  current_sub_TF                   135050 non-null  object        \n",
      " 30  app_opens                        135019 non-null  float64       \n",
      " 31  cust_service_mssgs               135019 non-null  float64       \n",
      " 32  num_videos_completed             135019 non-null  float64       \n",
      " 33  num_videos_more_than_30_seconds  135018 non-null  float64       \n",
      " 34  num_videos_rated                 135018 non-null  float64       \n",
      " 35  num_series_started               135018 non-null  float64       \n",
      "dtypes: bool(5), datetime64[ns](2), float64(15), int64(2), object(12)\n",
      "memory usage: 54.9+ MB\n"
     ]
    }
   ],
   "source": [
    "df_sub_churn.info()"
   ]
  },
  {
   "cell_type": "code",
   "execution_count": 95,
   "id": "e26c9af2",
   "metadata": {},
   "outputs": [
    {
     "data": {
      "text/plain": [
       "4.5141    227096\n",
       "5.0279       325\n",
       "1.0276       167\n",
       "4.2205        18\n",
       "4.0737        12\n",
       "4.3673         4\n",
       "4.4407         2\n",
       "3.7801         2\n",
       "1.1744         1\n",
       "0.7707         1\n",
       "Name: discount_price, dtype: int64"
      ]
     },
     "execution_count": 95,
     "metadata": {},
     "output_type": "execute_result"
    }
   ],
   "source": [
    "df_sub_churn['discount_price'].value_counts()"
   ]
  },
  {
   "cell_type": "code",
   "execution_count": null,
   "id": "1d64751a",
   "metadata": {},
   "outputs": [],
   "source": []
  },
  {
   "cell_type": "code",
   "execution_count": 24,
   "id": "e5b049bc",
   "metadata": {},
   "outputs": [],
   "source": [
    "feature_churn = ['age','male_TF','num_weekly_services_utilized','weekly_consumption_hour','num_ideal_streaming_services','app_opens','num_videos_completed','cust_service_mssgs','num_videos_more_than_30_seconds','num_videos_rated','num_series_started','current_sub_TF']\n"
   ]
  },
  {
   "cell_type": "code",
   "execution_count": 76,
   "id": "230556c2",
   "metadata": {},
   "outputs": [],
   "source": [
    "df_churn = df_sub_churn[feature_churn]"
   ]
  },
  {
   "cell_type": "code",
   "execution_count": 77,
   "id": "04de6c6d",
   "metadata": {},
   "outputs": [],
   "source": [
    "df_churn = df_churn.dropna()"
   ]
  },
  {
   "cell_type": "code",
   "execution_count": 78,
   "id": "63d49939",
   "metadata": {},
   "outputs": [],
   "source": [
    "df_churn = df_churn[-(df_churn.age > 100)]"
   ]
  },
  {
   "cell_type": "code",
   "execution_count": 79,
   "id": "3cc22ce9",
   "metadata": {},
   "outputs": [],
   "source": [
    "df_churn['male_TF'] = df_churn['male_TF'].astype('string')\n",
    "df_churn['male_TF'] = df_churn['male_TF'].map(\n",
    "                   {\"True\":1 ,\"False\":0})"
   ]
  },
  {
   "cell_type": "code",
   "execution_count": 80,
   "id": "f7dcb985",
   "metadata": {},
   "outputs": [],
   "source": [
    "df_churn['current_sub_TF'] = df_churn['current_sub_TF'].astype('string')\n",
    "df_churn['current_sub_TF'] = df_churn['current_sub_TF'].map(\n",
    "                   {\"True\":0 ,\"False\":1})\n",
    "df_churn = df_churn.rename(columns = {'current_sub_TF':'churn_TF'})"
   ]
  },
  {
   "cell_type": "code",
   "execution_count": 81,
   "id": "9cb2d9a1",
   "metadata": {},
   "outputs": [
    {
     "data": {
      "text/html": [
       "<div>\n",
       "<style scoped>\n",
       "    .dataframe tbody tr th:only-of-type {\n",
       "        vertical-align: middle;\n",
       "    }\n",
       "\n",
       "    .dataframe tbody tr th {\n",
       "        vertical-align: top;\n",
       "    }\n",
       "\n",
       "    .dataframe thead th {\n",
       "        text-align: right;\n",
       "    }\n",
       "</style>\n",
       "<table border=\"1\" class=\"dataframe\">\n",
       "  <thead>\n",
       "    <tr style=\"text-align: right;\">\n",
       "      <th></th>\n",
       "      <th>age</th>\n",
       "      <th>male_TF</th>\n",
       "      <th>num_weekly_services_utilized</th>\n",
       "      <th>weekly_consumption_hour</th>\n",
       "      <th>num_ideal_streaming_services</th>\n",
       "      <th>app_opens</th>\n",
       "      <th>num_videos_completed</th>\n",
       "      <th>cust_service_mssgs</th>\n",
       "      <th>num_videos_more_than_30_seconds</th>\n",
       "      <th>num_videos_rated</th>\n",
       "      <th>num_series_started</th>\n",
       "      <th>churn_TF</th>\n",
       "    </tr>\n",
       "  </thead>\n",
       "  <tbody>\n",
       "    <tr>\n",
       "      <th>2</th>\n",
       "      <td>25.0</td>\n",
       "      <td>1</td>\n",
       "      <td>3.362885</td>\n",
       "      <td>36.001186</td>\n",
       "      <td>1.951776</td>\n",
       "      <td>2.0</td>\n",
       "      <td>13.0</td>\n",
       "      <td>2.0</td>\n",
       "      <td>13.0</td>\n",
       "      <td>0.0</td>\n",
       "      <td>1.0</td>\n",
       "      <td>1</td>\n",
       "    </tr>\n",
       "    <tr>\n",
       "      <th>6</th>\n",
       "      <td>61.0</td>\n",
       "      <td>0</td>\n",
       "      <td>2.049135</td>\n",
       "      <td>20.051667</td>\n",
       "      <td>1.860289</td>\n",
       "      <td>20.0</td>\n",
       "      <td>91.0</td>\n",
       "      <td>8.5</td>\n",
       "      <td>91.0</td>\n",
       "      <td>3.0</td>\n",
       "      <td>19.5</td>\n",
       "      <td>0</td>\n",
       "    </tr>\n",
       "    <tr>\n",
       "      <th>7</th>\n",
       "      <td>23.0</td>\n",
       "      <td>0</td>\n",
       "      <td>3.002048</td>\n",
       "      <td>34.551230</td>\n",
       "      <td>1.870503</td>\n",
       "      <td>52.0</td>\n",
       "      <td>42.0</td>\n",
       "      <td>5.0</td>\n",
       "      <td>103.0</td>\n",
       "      <td>0.0</td>\n",
       "      <td>14.5</td>\n",
       "      <td>0</td>\n",
       "    </tr>\n",
       "    <tr>\n",
       "      <th>12</th>\n",
       "      <td>57.0</td>\n",
       "      <td>0</td>\n",
       "      <td>2.452687</td>\n",
       "      <td>28.751405</td>\n",
       "      <td>1.842940</td>\n",
       "      <td>12.0</td>\n",
       "      <td>18.0</td>\n",
       "      <td>4.0</td>\n",
       "      <td>22.0</td>\n",
       "      <td>0.0</td>\n",
       "      <td>3.0</td>\n",
       "      <td>1</td>\n",
       "    </tr>\n",
       "    <tr>\n",
       "      <th>13</th>\n",
       "      <td>54.0</td>\n",
       "      <td>0</td>\n",
       "      <td>2.876856</td>\n",
       "      <td>33.101274</td>\n",
       "      <td>1.867353</td>\n",
       "      <td>71.0</td>\n",
       "      <td>52.0</td>\n",
       "      <td>6.0</td>\n",
       "      <td>68.0</td>\n",
       "      <td>0.0</td>\n",
       "      <td>12.0</td>\n",
       "      <td>1</td>\n",
       "    </tr>\n",
       "  </tbody>\n",
       "</table>\n",
       "</div>"
      ],
      "text/plain": [
       "     age  male_TF  num_weekly_services_utilized  weekly_consumption_hour  \\\n",
       "2   25.0        1                      3.362885                36.001186   \n",
       "6   61.0        0                      2.049135                20.051667   \n",
       "7   23.0        0                      3.002048                34.551230   \n",
       "12  57.0        0                      2.452687                28.751405   \n",
       "13  54.0        0                      2.876856                33.101274   \n",
       "\n",
       "    num_ideal_streaming_services  app_opens  num_videos_completed  \\\n",
       "2                       1.951776        2.0                  13.0   \n",
       "6                       1.860289       20.0                  91.0   \n",
       "7                       1.870503       52.0                  42.0   \n",
       "12                      1.842940       12.0                  18.0   \n",
       "13                      1.867353       71.0                  52.0   \n",
       "\n",
       "    cust_service_mssgs  num_videos_more_than_30_seconds  num_videos_rated  \\\n",
       "2                  2.0                             13.0               0.0   \n",
       "6                  8.5                             91.0               3.0   \n",
       "7                  5.0                            103.0               0.0   \n",
       "12                 4.0                             22.0               0.0   \n",
       "13                 6.0                             68.0               0.0   \n",
       "\n",
       "    num_series_started  churn_TF  \n",
       "2                  1.0         1  \n",
       "6                 19.5         0  \n",
       "7                 14.5         0  \n",
       "12                 3.0         1  \n",
       "13                12.0         1  "
      ]
     },
     "execution_count": 81,
     "metadata": {},
     "output_type": "execute_result"
    }
   ],
   "source": [
    "df_churn.head()"
   ]
  },
  {
   "cell_type": "code",
   "execution_count": 82,
   "id": "aeeb3e6f",
   "metadata": {},
   "outputs": [],
   "source": [
    "# ------ DEFINE FUNCTIONS -----\n",
    "def apply_offers(df, threshold, base_price, discount_amount, cases, acceptance_rate_churn, acceptance_rate_nonchurn):\n",
    "    df_f = copy.deepcopy(df)\n",
    "\n",
    "    # set offer parameters for all observations\n",
    "    df_f['price_no_offer'] = base_price\n",
    "    df_f.loc[df_f['churn_TF'] == 1, 'price_no_offer'] = 0  # if the person churns they will pay 0\n",
    "\n",
    "    # determine whether indiviudals accept offer\n",
    "    df_f.loc[df_f['churn_TF'] == 1, 'accept_offer_prob'] = acceptance_rate_churn  # those who were going to churn are less likely to want the offer than those who were going to stay\n",
    "    df_f.loc[df_f['churn_TF'] == 0, 'accept_offer_prob'] = acceptance_rate_nonchurn\n",
    "    df_f['would_accept_offer_rand_draw'] = (df_f['random_draws'] < df_f['accept_offer_prob'])  # randomly select the individuals who would accept an offer based on their probability of acceptance\n",
    "\n",
    "    # make offer under lpm predictions for select threshold\n",
    "    df_f['make_offer_lpm'] = (df_f['prob_churn_lpm'] > threshold)     # predict whether individual will churn or not\n",
    "    df_f['accept_offer_lpm'] = (df_f['make_offer_lpm'] & df_f['would_accept_offer_rand_draw'])\n",
    "    df_f['price_lpm_offer'] = df_f['price_no_offer']  # initialize prices from \"do nothing case\"\n",
    "    df_f.loc[df_f['accept_offer_lpm'], 'price_lpm_offer'] = base_price * (1-discount_amount)    # for those who were both made an offer and would accept, set prices to discounted price\n",
    "\n",
    "    # make offer under logit predictions for select threshold\n",
    "    df_f['make_offer_logit'] = (df_f['prob_churn_logit'] > threshold)     # predict whether individual will churn or not\n",
    "    df_f['accept_offer_logit'] = (df_f['make_offer_logit'] & df_f['would_accept_offer_rand_draw'])\n",
    "    df_f['price_logit_offer'] = df_f['price_no_offer']  # initialize prices from \"do nothing case\"\n",
    "    df_f.loc[df_f['accept_offer_logit'], 'price_logit_offer'] = base_price * (1-discount_amount)    # for those who were both made an offer and would accept, set prices to discounted price\n",
    "\n",
    "    df_impact = pd.DataFrame(index=cases, columns=['subs', 'revenue', 'lift_from_no_offer'])\n",
    "    for c in cases:\n",
    "        df_impact.loc[c, 'subs'] = (df_f['price_' + c] > 0).sum()\n",
    "        df_impact.loc[c, 'revenue'] = df_f['price_' + c].sum()\n",
    "    for c in cases:\n",
    "        df_impact.loc[c, 'lift_from_no_offer'] = df_impact.loc[c, 'revenue'] / df_impact.loc['no_offer', 'revenue'] - 1\n",
    "\n",
    "    return df_f, df_impact\n",
    "\n",
    "def get_gini_info(actual, pred_prob):\n",
    "    # format[[obs0_pred0, obs0_pred1], [obs1_pred0, obs1_pred1]]; rows (i) are observed, columns (j) are predicted\n",
    "    confusion_matrix_list = list()\n",
    "    for t in [x / 100 for x in range(0, 100, 33)]:\n",
    "        pred = [1 if (x > t) else 0 for x in pred_prob]\n",
    "        confusion_matrix_list.append(confusion_matrix(actual, pred))\n",
    "        # confusion_matrix_list.append(model.pred_table(threshold=t))\n",
    "\n",
    "    # create Gini coefficient plots\n",
    "    false_positives = list()\n",
    "    true_positives = list()\n",
    "    for t in confusion_matrix_list:\n",
    "        true_positives.append(t[1, 1])\n",
    "        false_positives.append(t[0, 1])\n",
    "\n",
    "    return confusion_matrix_list, false_positives, true_positives"
   ]
  },
  {
   "cell_type": "code",
   "execution_count": 83,
   "id": "f07b43b5",
   "metadata": {},
   "outputs": [],
   "source": [
    "df_train, df_test = model_selection.train_test_split(df_churn, test_size=0.3)"
   ]
  },
  {
   "cell_type": "code",
   "execution_count": 84,
   "id": "030d4e54",
   "metadata": {},
   "outputs": [
    {
     "data": {
      "text/html": [
       "<div>\n",
       "<style scoped>\n",
       "    .dataframe tbody tr th:only-of-type {\n",
       "        vertical-align: middle;\n",
       "    }\n",
       "\n",
       "    .dataframe tbody tr th {\n",
       "        vertical-align: top;\n",
       "    }\n",
       "\n",
       "    .dataframe thead th {\n",
       "        text-align: right;\n",
       "    }\n",
       "</style>\n",
       "<table border=\"1\" class=\"dataframe\">\n",
       "  <thead>\n",
       "    <tr style=\"text-align: right;\">\n",
       "      <th></th>\n",
       "      <th>age</th>\n",
       "      <th>male_TF</th>\n",
       "      <th>num_weekly_services_utilized</th>\n",
       "      <th>weekly_consumption_hour</th>\n",
       "      <th>num_ideal_streaming_services</th>\n",
       "      <th>app_opens</th>\n",
       "      <th>num_videos_completed</th>\n",
       "      <th>cust_service_mssgs</th>\n",
       "      <th>num_videos_more_than_30_seconds</th>\n",
       "      <th>num_videos_rated</th>\n",
       "      <th>num_series_started</th>\n",
       "      <th>churn_TF</th>\n",
       "    </tr>\n",
       "  </thead>\n",
       "  <tbody>\n",
       "    <tr>\n",
       "      <th>75476</th>\n",
       "      <td>75.0</td>\n",
       "      <td>0</td>\n",
       "      <td>2.523382</td>\n",
       "      <td>22.951579</td>\n",
       "      <td>1.874212</td>\n",
       "      <td>34.5</td>\n",
       "      <td>8.0</td>\n",
       "      <td>5.0</td>\n",
       "      <td>103.0</td>\n",
       "      <td>0.0</td>\n",
       "      <td>15.5</td>\n",
       "      <td>0</td>\n",
       "    </tr>\n",
       "    <tr>\n",
       "      <th>52271</th>\n",
       "      <td>59.0</td>\n",
       "      <td>0</td>\n",
       "      <td>2.422611</td>\n",
       "      <td>24.401536</td>\n",
       "      <td>1.862279</td>\n",
       "      <td>23.0</td>\n",
       "      <td>103.0</td>\n",
       "      <td>5.5</td>\n",
       "      <td>103.0</td>\n",
       "      <td>2.5</td>\n",
       "      <td>23.0</td>\n",
       "      <td>1</td>\n",
       "    </tr>\n",
       "    <tr>\n",
       "      <th>113205</th>\n",
       "      <td>54.0</td>\n",
       "      <td>0</td>\n",
       "      <td>2.744064</td>\n",
       "      <td>28.751405</td>\n",
       "      <td>1.873900</td>\n",
       "      <td>97.0</td>\n",
       "      <td>102.5</td>\n",
       "      <td>8.0</td>\n",
       "      <td>103.0</td>\n",
       "      <td>3.5</td>\n",
       "      <td>22.5</td>\n",
       "      <td>1</td>\n",
       "    </tr>\n",
       "    <tr>\n",
       "      <th>172078</th>\n",
       "      <td>52.0</td>\n",
       "      <td>0</td>\n",
       "      <td>2.311296</td>\n",
       "      <td>20.051667</td>\n",
       "      <td>1.943614</td>\n",
       "      <td>19.0</td>\n",
       "      <td>28.0</td>\n",
       "      <td>5.0</td>\n",
       "      <td>50.0</td>\n",
       "      <td>0.0</td>\n",
       "      <td>7.0</td>\n",
       "      <td>1</td>\n",
       "    </tr>\n",
       "    <tr>\n",
       "      <th>40773</th>\n",
       "      <td>47.0</td>\n",
       "      <td>0</td>\n",
       "      <td>3.053596</td>\n",
       "      <td>34.551230</td>\n",
       "      <td>1.912892</td>\n",
       "      <td>20.0</td>\n",
       "      <td>25.0</td>\n",
       "      <td>6.0</td>\n",
       "      <td>55.0</td>\n",
       "      <td>0.0</td>\n",
       "      <td>5.0</td>\n",
       "      <td>1</td>\n",
       "    </tr>\n",
       "  </tbody>\n",
       "</table>\n",
       "</div>"
      ],
      "text/plain": [
       "         age  male_TF  num_weekly_services_utilized  weekly_consumption_hour  \\\n",
       "75476   75.0        0                      2.523382                22.951579   \n",
       "52271   59.0        0                      2.422611                24.401536   \n",
       "113205  54.0        0                      2.744064                28.751405   \n",
       "172078  52.0        0                      2.311296                20.051667   \n",
       "40773   47.0        0                      3.053596                34.551230   \n",
       "\n",
       "        num_ideal_streaming_services  app_opens  num_videos_completed  \\\n",
       "75476                       1.874212       34.5                   8.0   \n",
       "52271                       1.862279       23.0                 103.0   \n",
       "113205                      1.873900       97.0                 102.5   \n",
       "172078                      1.943614       19.0                  28.0   \n",
       "40773                       1.912892       20.0                  25.0   \n",
       "\n",
       "        cust_service_mssgs  num_videos_more_than_30_seconds  num_videos_rated  \\\n",
       "75476                  5.0                            103.0               0.0   \n",
       "52271                  5.5                            103.0               2.5   \n",
       "113205                 8.0                            103.0               3.5   \n",
       "172078                 5.0                             50.0               0.0   \n",
       "40773                  6.0                             55.0               0.0   \n",
       "\n",
       "        num_series_started  churn_TF  \n",
       "75476                 15.5         0  \n",
       "52271                 23.0         1  \n",
       "113205                22.5         1  \n",
       "172078                 7.0         1  \n",
       "40773                  5.0         1  "
      ]
     },
     "execution_count": 84,
     "metadata": {},
     "output_type": "execute_result"
    }
   ],
   "source": [
    "df_train.head()"
   ]
  },
  {
   "cell_type": "code",
   "execution_count": 85,
   "id": "afe9371c",
   "metadata": {},
   "outputs": [
    {
     "data": {
      "text/html": [
       "<div>\n",
       "<style scoped>\n",
       "    .dataframe tbody tr th:only-of-type {\n",
       "        vertical-align: middle;\n",
       "    }\n",
       "\n",
       "    .dataframe tbody tr th {\n",
       "        vertical-align: top;\n",
       "    }\n",
       "\n",
       "    .dataframe thead th {\n",
       "        text-align: right;\n",
       "    }\n",
       "</style>\n",
       "<table border=\"1\" class=\"dataframe\">\n",
       "  <thead>\n",
       "    <tr style=\"text-align: right;\">\n",
       "      <th></th>\n",
       "      <th>age</th>\n",
       "      <th>male_TF</th>\n",
       "      <th>num_weekly_services_utilized</th>\n",
       "      <th>weekly_consumption_hour</th>\n",
       "      <th>num_ideal_streaming_services</th>\n",
       "      <th>app_opens</th>\n",
       "      <th>num_videos_completed</th>\n",
       "      <th>cust_service_mssgs</th>\n",
       "      <th>num_videos_more_than_30_seconds</th>\n",
       "      <th>num_videos_rated</th>\n",
       "      <th>num_series_started</th>\n",
       "      <th>churn_TF</th>\n",
       "    </tr>\n",
       "  </thead>\n",
       "  <tbody>\n",
       "    <tr>\n",
       "      <th>212921</th>\n",
       "      <td>48.0</td>\n",
       "      <td>1</td>\n",
       "      <td>2.646654</td>\n",
       "      <td>27.301448</td>\n",
       "      <td>1.830810</td>\n",
       "      <td>5.0</td>\n",
       "      <td>7.0</td>\n",
       "      <td>2.0</td>\n",
       "      <td>32.0</td>\n",
       "      <td>0.0</td>\n",
       "      <td>0.5</td>\n",
       "      <td>1</td>\n",
       "    </tr>\n",
       "    <tr>\n",
       "      <th>168796</th>\n",
       "      <td>37.0</td>\n",
       "      <td>0</td>\n",
       "      <td>2.972591</td>\n",
       "      <td>25.851492</td>\n",
       "      <td>1.942347</td>\n",
       "      <td>35.0</td>\n",
       "      <td>31.0</td>\n",
       "      <td>6.0</td>\n",
       "      <td>40.0</td>\n",
       "      <td>0.0</td>\n",
       "      <td>6.0</td>\n",
       "      <td>1</td>\n",
       "    </tr>\n",
       "    <tr>\n",
       "      <th>170706</th>\n",
       "      <td>42.0</td>\n",
       "      <td>0</td>\n",
       "      <td>2.523380</td>\n",
       "      <td>31.651317</td>\n",
       "      <td>1.906855</td>\n",
       "      <td>4.0</td>\n",
       "      <td>7.0</td>\n",
       "      <td>3.0</td>\n",
       "      <td>13.0</td>\n",
       "      <td>0.0</td>\n",
       "      <td>1.0</td>\n",
       "      <td>1</td>\n",
       "    </tr>\n",
       "    <tr>\n",
       "      <th>200527</th>\n",
       "      <td>50.0</td>\n",
       "      <td>0</td>\n",
       "      <td>5.130269</td>\n",
       "      <td>31.651317</td>\n",
       "      <td>2.505084</td>\n",
       "      <td>7.5</td>\n",
       "      <td>27.5</td>\n",
       "      <td>4.5</td>\n",
       "      <td>39.5</td>\n",
       "      <td>0.0</td>\n",
       "      <td>5.5</td>\n",
       "      <td>1</td>\n",
       "    </tr>\n",
       "    <tr>\n",
       "      <th>184717</th>\n",
       "      <td>58.0</td>\n",
       "      <td>0</td>\n",
       "      <td>2.256802</td>\n",
       "      <td>25.851492</td>\n",
       "      <td>1.821576</td>\n",
       "      <td>10.0</td>\n",
       "      <td>5.0</td>\n",
       "      <td>3.0</td>\n",
       "      <td>30.0</td>\n",
       "      <td>0.0</td>\n",
       "      <td>1.0</td>\n",
       "      <td>1</td>\n",
       "    </tr>\n",
       "  </tbody>\n",
       "</table>\n",
       "</div>"
      ],
      "text/plain": [
       "         age  male_TF  num_weekly_services_utilized  weekly_consumption_hour  \\\n",
       "212921  48.0        1                      2.646654                27.301448   \n",
       "168796  37.0        0                      2.972591                25.851492   \n",
       "170706  42.0        0                      2.523380                31.651317   \n",
       "200527  50.0        0                      5.130269                31.651317   \n",
       "184717  58.0        0                      2.256802                25.851492   \n",
       "\n",
       "        num_ideal_streaming_services  app_opens  num_videos_completed  \\\n",
       "212921                      1.830810        5.0                   7.0   \n",
       "168796                      1.942347       35.0                  31.0   \n",
       "170706                      1.906855        4.0                   7.0   \n",
       "200527                      2.505084        7.5                  27.5   \n",
       "184717                      1.821576       10.0                   5.0   \n",
       "\n",
       "        cust_service_mssgs  num_videos_more_than_30_seconds  num_videos_rated  \\\n",
       "212921                 2.0                             32.0               0.0   \n",
       "168796                 6.0                             40.0               0.0   \n",
       "170706                 3.0                             13.0               0.0   \n",
       "200527                 4.5                             39.5               0.0   \n",
       "184717                 3.0                             30.0               0.0   \n",
       "\n",
       "        num_series_started  churn_TF  \n",
       "212921                 0.5         1  \n",
       "168796                 6.0         1  \n",
       "170706                 1.0         1  \n",
       "200527                 5.5         1  \n",
       "184717                 1.0         1  "
      ]
     },
     "execution_count": 85,
     "metadata": {},
     "output_type": "execute_result"
    }
   ],
   "source": [
    "df_test.head()"
   ]
  },
  {
   "cell_type": "code",
   "execution_count": 86,
   "id": "6351840e",
   "metadata": {},
   "outputs": [],
   "source": [
    "y_col_name = 'churn_TF'\n",
    "x_col_name = ['age','male_TF','num_weekly_services_utilized','weekly_consumption_hour','num_ideal_streaming_services','app_opens','num_videos_completed','cust_service_mssgs','num_videos_more_than_30_seconds','num_videos_rated','num_series_started']\n",
    " \n",
    "add_constant_TF = True"
   ]
  },
  {
   "cell_type": "code",
   "execution_count": 87,
   "id": "206d8196",
   "metadata": {},
   "outputs": [],
   "source": [
    "if add_constant_TF:\n",
    "    x_col_name.append('const')\n",
    "    df_train = sm.add_constant(df_train)\n",
    "    df_test = sm.add_constant(df_test)"
   ]
  },
  {
   "cell_type": "code",
   "execution_count": 88,
   "id": "41cdd044",
   "metadata": {},
   "outputs": [
    {
     "name": "stdout",
     "output_type": "stream",
     "text": [
      "\n",
      "RESULTS OF LOGIT MODEL FITTING\n",
      "\n",
      "                            OLS Regression Results                            \n",
      "==============================================================================\n",
      "Dep. Variable:               churn_TF   R-squared:                       0.232\n",
      "Model:                            OLS   Adj. R-squared:                  0.232\n",
      "Method:                 Least Squares   F-statistic:                     1520.\n",
      "Date:                Sun, 12 Dec 2021   Prob (F-statistic):               0.00\n",
      "Time:                        16:12:25   Log-Likelihood:                -19891.\n",
      "No. Observations:               55450   AIC:                         3.981e+04\n",
      "Df Residuals:                   55438   BIC:                         3.991e+04\n",
      "Df Model:                          11                                         \n",
      "Covariance Type:            nonrobust                                         \n",
      "===================================================================================================\n",
      "                                      coef    std err          t      P>|t|      [0.025      0.975]\n",
      "---------------------------------------------------------------------------------------------------\n",
      "age                                -0.0014      0.000    -12.633      0.000      -0.002      -0.001\n",
      "male_TF                            -0.1355      0.006    -23.539      0.000      -0.147      -0.124\n",
      "num_weekly_services_utilized        0.0083      0.005      1.750      0.080      -0.001       0.018\n",
      "weekly_consumption_hour            -0.0009      0.000     -2.241      0.025      -0.002      -0.000\n",
      "num_ideal_streaming_services       -0.0477      0.013     -3.658      0.000      -0.073      -0.022\n",
      "app_opens                          -0.0011   6.35e-05    -16.977      0.000      -0.001      -0.001\n",
      "num_videos_completed                0.0029      0.000     24.005      0.000       0.003       0.003\n",
      "cust_service_mssgs                  0.0168      0.000     36.184      0.000       0.016       0.018\n",
      "num_videos_more_than_30_seconds    -0.0042      0.000    -34.861      0.000      -0.004      -0.004\n",
      "num_videos_rated                   -0.0260      0.001    -28.094      0.000      -0.028      -0.024\n",
      "num_series_started                 -0.0150      0.001    -24.509      0.000      -0.016      -0.014\n",
      "const                               1.1696      0.022     53.876      0.000       1.127       1.212\n",
      "==============================================================================\n",
      "Omnibus:                     8197.669   Durbin-Watson:                   2.009\n",
      "Prob(Omnibus):                  0.000   Jarque-Bera (JB):            12437.348\n",
      "Skew:                          -1.079   Prob(JB):                         0.00\n",
      "Kurtosis:                       3.851   Cond. No.                     1.57e+03\n",
      "==============================================================================\n",
      "\n",
      "Notes:\n",
      "[1] Standard Errors assume that the covariance matrix of the errors is correctly specified.\n",
      "[2] The condition number is large, 1.57e+03. This might indicate that there are\n",
      "strong multicollinearity or other numerical problems.\n"
     ]
    }
   ],
   "source": [
    "# --- fit linear probability model\n",
    "lpm_model = sm.OLS(endog=df_train[y_col_name], exog=df_train[x_col_name])\n",
    "lpm_results = lpm_model.fit()\n",
    "print(\"\\nRESULTS OF LOGIT MODEL FITTING\\n\")\n",
    "print(lpm_results.summary())"
   ]
  },
  {
   "cell_type": "code",
   "execution_count": 89,
   "id": "dcfaa390",
   "metadata": {},
   "outputs": [
    {
     "name": "stdout",
     "output_type": "stream",
     "text": [
      "Optimization terminated successfully.\n",
      "         Current function value: 0.383023\n",
      "         Iterations 7\n",
      "\n",
      "RESULTS OF LOGIT MODEL FITTING\n",
      "\n",
      "                           Logit Regression Results                           \n",
      "==============================================================================\n",
      "Dep. Variable:               churn_TF   No. Observations:                55450\n",
      "Model:                          Logit   Df Residuals:                    55438\n",
      "Method:                           MLE   Df Model:                           11\n",
      "Date:                Sun, 12 Dec 2021   Pseudo R-squ.:                  0.2207\n",
      "Time:                        16:12:41   Log-Likelihood:                -21239.\n",
      "converged:                       True   LL-Null:                       -27254.\n",
      "Covariance Type:            nonrobust   LLR p-value:                     0.000\n",
      "===================================================================================================\n",
      "                                      coef    std err          z      P>|z|      [0.025      0.975]\n",
      "---------------------------------------------------------------------------------------------------\n",
      "age                                -0.0111      0.001    -11.519      0.000      -0.013      -0.009\n",
      "male_TF                            -0.9014      0.044    -20.338      0.000      -0.988      -0.815\n",
      "num_weekly_services_utilized        0.0855      0.041      2.090      0.037       0.005       0.166\n",
      "weekly_consumption_hour            -0.0092      0.003     -2.628      0.009      -0.016      -0.002\n",
      "num_ideal_streaming_services       -0.4322      0.112     -3.856      0.000      -0.652      -0.213\n",
      "app_opens                          -0.0053      0.000    -12.181      0.000      -0.006      -0.004\n",
      "num_videos_completed                0.0148      0.001     17.540      0.000       0.013       0.016\n",
      "cust_service_mssgs                  0.1115      0.004     27.832      0.000       0.104       0.119\n",
      "num_videos_more_than_30_seconds    -0.0328      0.001    -35.466      0.000      -0.035      -0.031\n",
      "num_videos_rated                   -0.1259      0.007    -18.539      0.000      -0.139      -0.113\n",
      "num_series_started                 -0.0648      0.004    -14.742      0.000      -0.073      -0.056\n",
      "const                               4.5936      0.188     24.391      0.000       4.224       4.963\n",
      "===================================================================================================\n"
     ]
    }
   ],
   "source": [
    "# --- fit logistic regression\n",
    "logit_model = sm.Logit(endog=df_train[y_col_name], exog=df_train[x_col_name])\n",
    "logit_results = logit_model.fit()\n",
    "print(\"\\nRESULTS OF LOGIT MODEL FITTING\\n\")\n",
    "print(logit_results.summary())"
   ]
  },
  {
   "cell_type": "code",
   "execution_count": 90,
   "id": "00e76bdc",
   "metadata": {},
   "outputs": [],
   "source": [
    "# ----- EVALUATE MODEL PERFORMANCE -----\n",
    "# --- evaluate model predictions on test set graphically\n",
    "df_test['prob_churn_lpm'] = lpm_results.predict(df_test[x_col_name])\n",
    "df_test['prob_churn_logit'] = logit_results.predict(df_test[x_col_name])"
   ]
  },
  {
   "cell_type": "code",
   "execution_count": 91,
   "id": "7e31724d",
   "metadata": {},
   "outputs": [
    {
     "data": {
      "text/plain": [
       "<matplotlib.legend.Legend at 0x7f869b4b2c70>"
      ]
     },
     "execution_count": 91,
     "metadata": {},
     "output_type": "execute_result"
    },
    {
     "data": {
      "image/png": "[encoded data removed]",
      "text/plain": [
       "<Figure size 432x288 with 11 Axes>"
      ]
     },
     "metadata": {
      "needs_background": "light"
     },
     "output_type": "display_data"
    }
   ],
   "source": [
    "# plot predictions vs. data\n",
    "select_plot_coef = [x for x in x_col_name if x != 'const']\n",
    "n_rows = 11\n",
    "n_cols = math.ceil(len(select_plot_coef) / n_rows)\n",
    "fig, axes = plt.subplots(n_rows, n_cols)\n",
    "fig.suptitle('Single factor relationship with churn')\n",
    "for i in range(n_rows):\n",
    "    for j in range(n_cols):\n",
    "        select_coef = select_plot_coef[i * n_cols + j]\n",
    "        axes[i].plot(df_test[select_coef], df_test['churn_TF'], 'k.')\n",
    "        axes[i].plot(df_test[select_coef], df_test['prob_churn_lpm'], 'b.')\n",
    "        axes[i].plot(df_test[select_coef], df_test['prob_churn_logit'], 'r.')\n",
    "        axes[i].set(xlabel=select_coef, ylabel='Churn prob.')\n",
    "fig.legend(labels=['Churn T/F (actual)', 'Linear probability model', 'Logit probability'])"
   ]
  },
  {
   "cell_type": "code",
   "execution_count": 92,
   "id": "d2fe6d55",
   "metadata": {},
   "outputs": [
    {
     "data": {
      "text/plain": [
       "<matplotlib.legend.Legend at 0x7f86ab3511c0>"
      ]
     },
     "execution_count": 92,
     "metadata": {},
     "output_type": "execute_result"
    },
    {
     "data": {
      "image/png": "[encoded data removed]",
      "text/plain": [
       "<Figure size 432x288 with 1 Axes>"
      ]
     },
     "metadata": {
      "needs_background": "light"
     },
     "output_type": "display_data"
    }
   ],
   "source": [
    "# compare lpm and logit predictions\n",
    "fig = plt.figure()\n",
    "ax = plt.gca()\n",
    "ax.plot(df_test[['prob_churn_lpm']], df_test[['churn_TF']], 'k.')\n",
    "ax.plot(df_test[['prob_churn_lpm']], df_test[['prob_churn_logit']], 'r.')\n",
    "plt.ylim(df_test[['prob_churn_lpm', 'prob_churn_logit']].min().min()-.05, df_test[['prob_churn_lpm', 'prob_churn_logit']].max().max()+.05)\n",
    "plt.xlim(ax.get_ylim())\n",
    "plt.title('LPM vs logit predictions')\n",
    "plt.xlabel('Linear Probability Model Prediction')\n",
    "plt.ylabel('Logit Model Prediction')\n",
    "fig.legend(labels=['Churn T/F (actual)', 'Linear probability model', 'Logit probability'])"
   ]
  },
  {
   "cell_type": "code",
   "execution_count": 93,
   "id": "854aebb0",
   "metadata": {},
   "outputs": [],
   "source": [
    "# --- evaluate model predictions using numerical quantification (ROC curves)\n",
    "# make confusion matrices\n",
    "logit_conf_mat, logit_false_positives, logit_true_positives = get_gini_info(df_test['churn_TF'], df_test['prob_churn_logit'])\n",
    "lpm_conf_mat, lpm_false_positives, lpm_true_positives = get_gini_info(df_test['churn_TF'], df_test['prob_churn_lpm'])"
   ]
  },
  {
   "cell_type": "code",
   "execution_count": 94,
   "id": "7c3aee42",
   "metadata": {},
   "outputs": [
    {
     "data": {
      "text/plain": [
       "<matplotlib.legend.Legend at 0x7f86c94d1eb0>"
      ]
     },
     "execution_count": 94,
     "metadata": {},
     "output_type": "execute_result"
    },
    {
     "data": {
      "image/png": "[encoded data removed]",
      "text/plain": [
       "<Figure size 432x288 with 1 Axes>"
      ]
     },
     "metadata": {
      "needs_background": "light"
     },
     "output_type": "display_data"
    }
   ],
   "source": [
    "# plot ROC curves\n",
    "fig = plt.figure()\n",
    "ax1 = plt.gca()\n",
    "ax1.plot(lpm_false_positives, lpm_true_positives, 'b-')\n",
    "ax1.plot(logit_false_positives, logit_true_positives, 'r-')\n",
    "plt.title('ROC curves')\n",
    "plt.xlabel('False positives (positive=churn)')\n",
    "plt.ylabel('True positives (positive=churn)')\n",
    "plt.legend(labels=['Linear probability model', 'Logit probability'])"
   ]
  },
  {
   "cell_type": "code",
   "execution_count": 125,
   "id": "2f7f50f0",
   "metadata": {},
   "outputs": [],
   "source": [
    "# ----- TEST RETENTION OFFER SCENARIOS -----\n",
    "# evaluate the impact of an offer\n",
    "acceptance_rate_nonchurn = 1\n",
    "acceptance_rate_churn = 0.3\n",
    "threshold = 0.5\n",
    "base_price = 4.5141\n",
    "discount_amount = 0.3\n",
    "cases = ['no_offer', 'lpm_offer', 'logit_offer']"
   ]
  },
  {
   "cell_type": "code",
   "execution_count": 126,
   "id": "fb88ad03",
   "metadata": {},
   "outputs": [],
   "source": [
    "# draw whether individual would accept an offer or not - assume probability of acceptance is independent of offer attractiveness\n",
    "df_test['random_draws'] = np.random.random(df_test.shape[0])"
   ]
  },
  {
   "cell_type": "code",
   "execution_count": 127,
   "id": "84d80e9b",
   "metadata": {},
   "outputs": [],
   "source": [
    "# base assessment\n",
    "df_test, df_impact = apply_offers(df_test, threshold, base_price, discount_amount, cases, acceptance_rate_churn, acceptance_rate_nonchurn)"
   ]
  },
  {
   "cell_type": "code",
   "execution_count": null,
   "id": "105354a6",
   "metadata": {},
   "outputs": [],
   "source": []
  },
  {
   "cell_type": "code",
   "execution_count": 128,
   "id": "5d18c9f5",
   "metadata": {},
   "outputs": [],
   "source": [
    "# test sensitivity to thresholds\n",
    "df_lift_threshold = pd.DataFrame(index=range(0, 100, 1), columns=['threshold'] + cases)\n",
    "for t_ind in df_lift_threshold.index:\n",
    "    t_threshold = t_ind / 100\n",
    "    _, t_df_impact = apply_offers(df_test, t_threshold, base_price, discount_amount, cases, acceptance_rate_churn, acceptance_rate_nonchurn)\n",
    "\n",
    "    df_lift_threshold.loc[t_ind, 'threshold'] = t_threshold\n",
    "    df_lift_threshold.loc[t_ind, cases] = t_df_impact.loc[cases, 'lift_from_no_offer']\n",
    "del t_df_impact, t_threshold, t_ind"
   ]
  },
  {
   "cell_type": "code",
   "execution_count": 129,
   "id": "0e736201",
   "metadata": {},
   "outputs": [
    {
     "data": {
      "text/plain": [
       "<matplotlib.legend.Legend at 0x7f86abc109a0>"
      ]
     },
     "execution_count": 129,
     "metadata": {},
     "output_type": "execute_result"
    },
    {
     "data": {
      "image/png": "[encoded data removed]",
      "text/plain": [
       "<Figure size 432x288 with 1 Axes>"
      ]
     },
     "metadata": {
      "needs_background": "light"
     },
     "output_type": "display_data"
    }
   ],
   "source": [
    "# --- plot lift curves\n",
    "# Threshold sensitivity\n",
    "fig = plt.figure()\n",
    "ax1 = plt.gca()\n",
    "ax1.plot(df_lift_threshold['threshold'], df_lift_threshold['lpm_offer'], 'b-')\n",
    "ax1.plot(df_lift_threshold['threshold'], df_lift_threshold['logit_offer'], 'r-')\n",
    "plt.title('Lift curves')\n",
    "plt.xlabel('Threshold probability for predicting customer churns')\n",
    "plt.ylabel('Revenue lift from base scenario of making no retention offer')\n",
    "plt.legend(labels=['Linear probability model', 'Logit probability'])"
   ]
  },
  {
   "cell_type": "code",
   "execution_count": 130,
   "id": "b574c874",
   "metadata": {},
   "outputs": [
    {
     "data": {
      "text/plain": [
       "0.6243532178747055"
      ]
     },
     "execution_count": 130,
     "metadata": {},
     "output_type": "execute_result"
    }
   ],
   "source": [
    "lmp_offer_max = df_lift_threshold['lpm_offer'].max()\n",
    "lmp_offer_max"
   ]
  },
  {
   "cell_type": "code",
   "execution_count": 131,
   "id": "b82abbbe",
   "metadata": {},
   "outputs": [
    {
     "data": {
      "text/plain": [
       "0.6245456489202474"
      ]
     },
     "execution_count": 131,
     "metadata": {},
     "output_type": "execute_result"
    }
   ],
   "source": [
    "logit_offer_max = df_lift_threshold['logit_offer'].max()\n",
    "logit_offer_max"
   ]
  },
  {
   "cell_type": "code",
   "execution_count": 132,
   "id": "5f408c17",
   "metadata": {},
   "outputs": [
    {
     "name": "stdout",
     "output_type": "stream",
     "text": [
      "0.65\n"
     ]
    }
   ],
   "source": [
    "for i in range(df_lift_threshold.shape[0]):\n",
    "    if df_lift_threshold['lpm_offer'][i] == lmp_offer_max:\n",
    "        print(df_lift_threshold['threshold'][i])"
   ]
  },
  {
   "cell_type": "code",
   "execution_count": 133,
   "id": "d074e447",
   "metadata": {},
   "outputs": [
    {
     "name": "stdout",
     "output_type": "stream",
     "text": [
      "0.68\n"
     ]
    }
   ],
   "source": [
    "for i in range(df_lift_threshold.shape[0]):\n",
    "    if df_lift_threshold['logit_offer'][i] == logit_offer_max:\n",
    "        print(df_lift_threshold['threshold'][i])"
   ]
  },
  {
   "cell_type": "code",
   "execution_count": null,
   "id": "2581cbad",
   "metadata": {},
   "outputs": [],
   "source": []
  },
  {
   "cell_type": "code",
   "execution_count": 134,
   "id": "42ebf471",
   "metadata": {},
   "outputs": [],
   "source": [
    "threshold = 0.665"
   ]
  },
  {
   "cell_type": "code",
   "execution_count": null,
   "id": "b527c456",
   "metadata": {},
   "outputs": [],
   "source": []
  },
  {
   "cell_type": "code",
   "execution_count": 135,
   "id": "58cbae2c",
   "metadata": {},
   "outputs": [],
   "source": [
    "# test sensitivity to acceptance rate for churners\n",
    "df_lift_acceptance_rate_churn = pd.DataFrame(index=range(0, 100, 1), columns=['acceptance_rate_churn'] + cases)\n",
    "for t_ind in df_lift_acceptance_rate_churn.index:\n",
    "    t_acceptance_rate_churn = t_ind / 100\n",
    "    _, t_df_impact = apply_offers(df_test, threshold, base_price, discount_amount, cases, t_acceptance_rate_churn, acceptance_rate_nonchurn)\n",
    "\n",
    "    df_lift_acceptance_rate_churn.loc[t_ind, 'acceptance_rate_churn'] = t_acceptance_rate_churn\n",
    "    df_lift_acceptance_rate_churn.loc[t_ind, cases] = t_df_impact.loc[cases, 'lift_from_no_offer']\n",
    "del t_df_impact, t_acceptance_rate_churn, t_ind"
   ]
  },
  {
   "cell_type": "code",
   "execution_count": 136,
   "id": "99538836",
   "metadata": {},
   "outputs": [
    {
     "data": {
      "text/plain": [
       "<matplotlib.legend.Legend at 0x7f8691854130>"
      ]
     },
     "execution_count": 136,
     "metadata": {},
     "output_type": "execute_result"
    },
    {
     "data": {
      "image/png": "[encoded data removed]",
      "text/plain": [
       "<Figure size 432x288 with 1 Axes>"
      ]
     },
     "metadata": {
      "needs_background": "light"
     },
     "output_type": "display_data"
    }
   ],
   "source": [
    "# Acceptance rate sensitivity\n",
    "fig = plt.figure()\n",
    "ax1 = plt.gca()\n",
    "ax1.plot(df_lift_acceptance_rate_churn['acceptance_rate_churn'], df_lift_acceptance_rate_churn['lpm_offer'], 'b-')\n",
    "ax1.plot(df_lift_acceptance_rate_churn['acceptance_rate_churn'], df_lift_acceptance_rate_churn['logit_offer'], 'r-')\n",
    "plt.title('Lift curves')\n",
    "plt.xlabel('Offer acceptance rate for those who would churn')\n",
    "plt.ylabel('Revenue lift from base scenario of making no retention offer')\n",
    "plt.legend(labels=['Linear probability model', 'Logit probability'])"
   ]
  },
  {
   "cell_type": "code",
   "execution_count": null,
   "id": "e9d1ed81",
   "metadata": {},
   "outputs": [],
   "source": []
  },
  {
   "cell_type": "code",
   "execution_count": 137,
   "id": "4c3eb7d3",
   "metadata": {},
   "outputs": [],
   "source": [
    "# test sensitivity to offer discount amount\n",
    "df_lift_discount_amount = pd.DataFrame(index=range(0, 100, 1), columns=['discount_amount'] + cases)\n",
    "for t_ind in df_lift_discount_amount.index:\n",
    "    t_discount_amount = t_ind / 100\n",
    "    acceptance_rate_churn = t_discount_amount\n",
    "    _, t_df_impact = apply_offers(df_test, threshold, base_price, t_discount_amount, cases, acceptance_rate_churn, acceptance_rate_nonchurn)\n",
    "    \n",
    "    df_lift_discount_amount.loc[t_ind, 'discount_amount'] = t_discount_amount\n",
    "    df_lift_discount_amount.loc[t_ind, cases] = t_df_impact.loc[cases, 'lift_from_no_offer']\n",
    "del t_df_impact, t_discount_amount, t_ind"
   ]
  },
  {
   "cell_type": "code",
   "execution_count": 138,
   "id": "9822cbbf",
   "metadata": {},
   "outputs": [
    {
     "data": {
      "text/plain": [
       "<matplotlib.legend.Legend at 0x7f86ab3b92b0>"
      ]
     },
     "execution_count": 138,
     "metadata": {},
     "output_type": "execute_result"
    },
    {
     "data": {
      "image/png": "[encoded data removed]",
      "text/plain": [
       "<Figure size 432x288 with 1 Axes>"
      ]
     },
     "metadata": {
      "needs_background": "light"
     },
     "output_type": "display_data"
    }
   ],
   "source": [
    "# Discount amount sensitivity\n",
    "fig = plt.figure()\n",
    "ax1 = plt.gca()\n",
    "ax1.plot(df_lift_discount_amount['discount_amount'], df_lift_discount_amount['lpm_offer'], 'b-')\n",
    "ax1.plot(df_lift_discount_amount['discount_amount'], df_lift_discount_amount['logit_offer'], 'r-')\n",
    "plt.title('Lift curves')\n",
    "plt.xlabel('Offer discount amount')\n",
    "plt.ylabel('Revenue lift from base scenario of making no retention offer')\n",
    "plt.legend(labels=['Linear probability model', 'Logit probability'])"
   ]
  },
  {
   "cell_type": "code",
   "execution_count": 139,
   "id": "a3b73c8e",
   "metadata": {},
   "outputs": [
    {
     "data": {
      "text/plain": [
       "0.6995552704725245"
      ]
     },
     "execution_count": 139,
     "metadata": {},
     "output_type": "execute_result"
    }
   ],
   "source": [
    "lmp_offer_max = df_lift_discount_amount['lpm_offer'].max()\n",
    "lmp_offer_max"
   ]
  },
  {
   "cell_type": "code",
   "execution_count": 140,
   "id": "7bfeac39",
   "metadata": {},
   "outputs": [
    {
     "data": {
      "text/plain": [
       "0.6956382296343804"
      ]
     },
     "execution_count": 140,
     "metadata": {},
     "output_type": "execute_result"
    }
   ],
   "source": [
    "logit_offer_max = df_lift_discount_amount['logit_offer'].max()\n",
    "logit_offer_max"
   ]
  },
  {
   "cell_type": "code",
   "execution_count": 141,
   "id": "6ade108b",
   "metadata": {},
   "outputs": [
    {
     "name": "stdout",
     "output_type": "stream",
     "text": [
      "0.46\n"
     ]
    }
   ],
   "source": [
    "for i in range(df_lift_discount_amount.shape[0]):\n",
    "    if df_lift_discount_amount['lpm_offer'][i] == lmp_offer_max:\n",
    "        print(df_lift_discount_amount['discount_amount'][i])"
   ]
  },
  {
   "cell_type": "code",
   "execution_count": 142,
   "id": "8b584622",
   "metadata": {},
   "outputs": [
    {
     "name": "stdout",
     "output_type": "stream",
     "text": [
      "0.46\n"
     ]
    }
   ],
   "source": [
    "for i in range(df_lift_discount_amount.shape[0]):\n",
    "    if df_lift_discount_amount['logit_offer'][i] == logit_offer_max:\n",
    "        print(df_lift_discount_amount['discount_amount'][i])"
   ]
  }
 ],
 "metadata": {
  "kernelspec": {
   "display_name": "Python 3",
   "language": "python",
   "name": "python3"
  },
  "language_info": {
   "codemirror_mode": {
    "name": "ipython",
    "version": 3
   },
   "file_extension": ".py",
   "mimetype": "text/x-python",
   "name": "python",
   "nbconvert_exporter": "python",
   "pygments_lexer": "ipython3",
   "version": "3.8.8"
  }
 },
 "nbformat": 4,
 "nbformat_minor": 5
}
